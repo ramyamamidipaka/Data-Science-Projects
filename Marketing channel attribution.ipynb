{
 "cells": [
  {
   "cell_type": "code",
   "execution_count": 1,
   "id": "recognized-stamp",
   "metadata": {},
   "outputs": [],
   "source": [
    "#ref https://medium.com/@mortenhegewald/marketing-channel-attribution-using-markov-chains-101-in-python-78fb181ebf1e\n",
    "# https://towardsdatascience.com/marketing-channel-attribution-with-markov-chains-in-python-part-2-the-complete-walkthrough-733c65b23323\n",
    "# ref https://towardsdatascience.com/multi-channel-marketing-attribution-with-markov-6b744c0b119a#:~:text=of%2067.5%25%3A-,Campaign%20attribution,rate%20without%20it%20in%20place.\n",
    "\n",
    "# https://serhiipuzyrov.com/2019/07/markov-chain-attribution-simple-explanation-of-removal-effect/"
   ]
  },
  {
   "cell_type": "code",
   "execution_count": 2,
   "id": "sustained-wednesday",
   "metadata": {},
   "outputs": [],
   "source": [
    "import seaborn as sns"
   ]
  },
  {
   "cell_type": "code",
   "execution_count": null,
   "id": "technical-gnome",
   "metadata": {},
   "outputs": [],
   "source": []
  },
  {
   "cell_type": "code",
   "execution_count": 3,
   "id": "cooperative-manufacturer",
   "metadata": {},
   "outputs": [
    {
     "name": "stderr",
     "output_type": "stream",
     "text": [
      "C:\\Users\\ramya\\Anaconda3\\lib\\site-packages\\ipykernel_launcher.py:8: FutureWarning: Passing a negative integer is deprecated in version 1.0 and will not be supported in future version. Instead, use None to not limit the column width.\n",
      "  \n"
     ]
    }
   ],
   "source": [
    "import pandas as pd\n",
    "import numpy as np\n",
    "from collections import defaultdict\n",
    "\n",
    "\n",
    "pd.set_option('display.max_columns', None)  \n",
    "pd.set_option('display.expand_frame_repr', False)\n",
    "pd.set_option('max_colwidth', -1)\n",
    "\n",
    "\n",
    "df = pd.read_csv('attribution data.csv')\n",
    "df = df.sort_values(['cookie', 'time'],\n",
    "                    ascending=[False, True])\n",
    "df['visit_order'] = df.groupby('cookie').cumcount() + 1"
   ]
  },
  {
   "cell_type": "code",
   "execution_count": 4,
   "id": "engaging-summit",
   "metadata": {},
   "outputs": [
    {
     "data": {
      "text/html": [
       "<div>\n",
       "<style scoped>\n",
       "    .dataframe tbody tr th:only-of-type {\n",
       "        vertical-align: middle;\n",
       "    }\n",
       "\n",
       "    .dataframe tbody tr th {\n",
       "        vertical-align: top;\n",
       "    }\n",
       "\n",
       "    .dataframe thead th {\n",
       "        text-align: right;\n",
       "    }\n",
       "</style>\n",
       "<table border=\"1\" class=\"dataframe\">\n",
       "  <thead>\n",
       "    <tr style=\"text-align: right;\">\n",
       "      <th></th>\n",
       "      <th>cookie</th>\n",
       "      <th>time</th>\n",
       "      <th>interaction</th>\n",
       "      <th>conversion</th>\n",
       "      <th>conversion_value</th>\n",
       "      <th>channel</th>\n",
       "      <th>visit_order</th>\n",
       "    </tr>\n",
       "  </thead>\n",
       "  <tbody>\n",
       "    <tr>\n",
       "      <th>586736</th>\n",
       "      <td>ooooohAFofEnonEikhAi3fF9o</td>\n",
       "      <td>2018-07-14T17:17:12Z</td>\n",
       "      <td>impression</td>\n",
       "      <td>0</td>\n",
       "      <td>0.0</td>\n",
       "      <td>Paid Search</td>\n",
       "      <td>1</td>\n",
       "    </tr>\n",
       "    <tr>\n",
       "      <th>586734</th>\n",
       "      <td>ooooiBh70D3k3BfAhDFfii9h7</td>\n",
       "      <td>2018-07-03T12:57:25Z</td>\n",
       "      <td>impression</td>\n",
       "      <td>0</td>\n",
       "      <td>0.0</td>\n",
       "      <td>Paid Search</td>\n",
       "      <td>1</td>\n",
       "    </tr>\n",
       "    <tr>\n",
       "      <th>586735</th>\n",
       "      <td>ooooiBh70D3k3BfAhDFfii9h7</td>\n",
       "      <td>2018-07-19T08:17:59Z</td>\n",
       "      <td>impression</td>\n",
       "      <td>0</td>\n",
       "      <td>0.0</td>\n",
       "      <td>Online Video</td>\n",
       "      <td>2</td>\n",
       "    </tr>\n",
       "    <tr>\n",
       "      <th>586731</th>\n",
       "      <td>ooooEiB0CCoEf9fiiC90Dfhfk</td>\n",
       "      <td>2018-07-06T23:30:38Z</td>\n",
       "      <td>impression</td>\n",
       "      <td>0</td>\n",
       "      <td>0.0</td>\n",
       "      <td>Online Display</td>\n",
       "      <td>1</td>\n",
       "    </tr>\n",
       "    <tr>\n",
       "      <th>586732</th>\n",
       "      <td>ooooEiB0CCoEf9fiiC90Dfhfk</td>\n",
       "      <td>2018-07-12T23:50:45Z</td>\n",
       "      <td>impression</td>\n",
       "      <td>0</td>\n",
       "      <td>0.0</td>\n",
       "      <td>Online Display</td>\n",
       "      <td>2</td>\n",
       "    </tr>\n",
       "  </tbody>\n",
       "</table>\n",
       "</div>"
      ],
      "text/plain": [
       "                           cookie                  time interaction  conversion  conversion_value         channel  visit_order\n",
       "586736  ooooohAFofEnonEikhAi3fF9o  2018-07-14T17:17:12Z  impression  0           0.0               Paid Search     1          \n",
       "586734  ooooiBh70D3k3BfAhDFfii9h7  2018-07-03T12:57:25Z  impression  0           0.0               Paid Search     1          \n",
       "586735  ooooiBh70D3k3BfAhDFfii9h7  2018-07-19T08:17:59Z  impression  0           0.0               Online Video    2          \n",
       "586731  ooooEiB0CCoEf9fiiC90Dfhfk  2018-07-06T23:30:38Z  impression  0           0.0               Online Display  1          \n",
       "586732  ooooEiB0CCoEf9fiiC90Dfhfk  2018-07-12T23:50:45Z  impression  0           0.0               Online Display  2          "
      ]
     },
     "execution_count": 4,
     "metadata": {},
     "output_type": "execute_result"
    }
   ],
   "source": [
    "df.head()"
   ]
  },
  {
   "cell_type": "markdown",
   "id": "forced-infection",
   "metadata": {},
   "source": [
    "Next, we’ll want to format the data frame from long-form to wide-form, so we’ll ultimately end up with a data frame containing a single row per user and the total chronological user-journey in a list of touch-points.\n",
    "We’ll do this by first grouping the chronological touch-points into a list, merging the list of final conversion/non-conversion events onto that data frame and finally adding a “Null” or “Conversion” event to the end of our user-journey lists."
   ]
  },
  {
   "cell_type": "code",
   "execution_count": 5,
   "id": "absolute-cheat",
   "metadata": {},
   "outputs": [],
   "source": [
    "def remove_adjacent(nums):\n",
    "    i = 1\n",
    "    while i < len(nums):    \n",
    "        if nums[i] == nums[i-1]:\n",
    "            nums.pop(i)\n",
    "            i -= 1  \n",
    "        i += 1\n",
    "    return nums"
   ]
  },
  {
   "cell_type": "code",
   "execution_count": 6,
   "id": "south-delight",
   "metadata": {},
   "outputs": [],
   "source": [
    "df_paths = df.groupby('cookie')['channel'].aggregate(\n",
    "    lambda x: (x.tolist())).reset_index()"
   ]
  },
  {
   "cell_type": "code",
   "execution_count": 7,
   "id": "broadband-converter",
   "metadata": {},
   "outputs": [
    {
     "data": {
      "text/html": [
       "<div>\n",
       "<style scoped>\n",
       "    .dataframe tbody tr th:only-of-type {\n",
       "        vertical-align: middle;\n",
       "    }\n",
       "\n",
       "    .dataframe tbody tr th {\n",
       "        vertical-align: top;\n",
       "    }\n",
       "\n",
       "    .dataframe thead th {\n",
       "        text-align: right;\n",
       "    }\n",
       "</style>\n",
       "<table border=\"1\" class=\"dataframe\">\n",
       "  <thead>\n",
       "    <tr style=\"text-align: right;\">\n",
       "      <th></th>\n",
       "      <th>cookie</th>\n",
       "      <th>channel</th>\n",
       "    </tr>\n",
       "  </thead>\n",
       "  <tbody>\n",
       "    <tr>\n",
       "      <th>0</th>\n",
       "      <td>00000FkCnDfDDf0iC97iC703B</td>\n",
       "      <td>[Instagram, Online Display, Online Display, Online Display]</td>\n",
       "    </tr>\n",
       "    <tr>\n",
       "      <th>1</th>\n",
       "      <td>0000nACkD9nFkBBDECD3ki00E</td>\n",
       "      <td>[Paid Search, Paid Search, Paid Search, Paid Search, Paid Search, Paid Search]</td>\n",
       "    </tr>\n",
       "    <tr>\n",
       "      <th>2</th>\n",
       "      <td>0003EfE37E93D0BC03iBhBBhF</td>\n",
       "      <td>[Paid Search, Paid Search, Paid Search, Paid Search, Paid Search]</td>\n",
       "    </tr>\n",
       "    <tr>\n",
       "      <th>3</th>\n",
       "      <td>00073CFE3FoFCn70fBhB3kfon</td>\n",
       "      <td>[Instagram]</td>\n",
       "    </tr>\n",
       "    <tr>\n",
       "      <th>4</th>\n",
       "      <td>00079hhBkDF3k3kDkiFi9EFAD</td>\n",
       "      <td>[Paid Search]</td>\n",
       "    </tr>\n",
       "  </tbody>\n",
       "</table>\n",
       "</div>"
      ],
      "text/plain": [
       "                      cookie                                                                         channel\n",
       "0  00000FkCnDfDDf0iC97iC703B  [Instagram, Online Display, Online Display, Online Display]                   \n",
       "1  0000nACkD9nFkBBDECD3ki00E  [Paid Search, Paid Search, Paid Search, Paid Search, Paid Search, Paid Search]\n",
       "2  0003EfE37E93D0BC03iBhBBhF  [Paid Search, Paid Search, Paid Search, Paid Search, Paid Search]             \n",
       "3  00073CFE3FoFCn70fBhB3kfon  [Instagram]                                                                   \n",
       "4  00079hhBkDF3k3kDkiFi9EFAD  [Paid Search]                                                                 "
      ]
     },
     "execution_count": 7,
     "metadata": {},
     "output_type": "execute_result"
    }
   ],
   "source": [
    "df_paths.head(5)"
   ]
  },
  {
   "cell_type": "code",
   "execution_count": 8,
   "id": "global-botswana",
   "metadata": {},
   "outputs": [
    {
     "data": {
      "text/html": [
       "<div>\n",
       "<style scoped>\n",
       "    .dataframe tbody tr th:only-of-type {\n",
       "        vertical-align: middle;\n",
       "    }\n",
       "\n",
       "    .dataframe tbody tr th {\n",
       "        vertical-align: top;\n",
       "    }\n",
       "\n",
       "    .dataframe thead th {\n",
       "        text-align: right;\n",
       "    }\n",
       "</style>\n",
       "<table border=\"1\" class=\"dataframe\">\n",
       "  <thead>\n",
       "    <tr style=\"text-align: right;\">\n",
       "      <th></th>\n",
       "      <th>cookie</th>\n",
       "      <th>conversion</th>\n",
       "    </tr>\n",
       "  </thead>\n",
       "  <tbody>\n",
       "    <tr>\n",
       "      <th>586736</th>\n",
       "      <td>ooooohAFofEnonEikhAi3fF9o</td>\n",
       "      <td>0</td>\n",
       "    </tr>\n",
       "    <tr>\n",
       "      <th>586735</th>\n",
       "      <td>ooooiBh70D3k3BfAhDFfii9h7</td>\n",
       "      <td>0</td>\n",
       "    </tr>\n",
       "    <tr>\n",
       "      <th>586733</th>\n",
       "      <td>ooooEiB0CCoEf9fiiC90Dfhfk</td>\n",
       "      <td>0</td>\n",
       "    </tr>\n",
       "    <tr>\n",
       "      <th>586730</th>\n",
       "      <td>ooooEBE0o0D97ACAAAnDoi3F0</td>\n",
       "      <td>0</td>\n",
       "    </tr>\n",
       "    <tr>\n",
       "      <th>586729</th>\n",
       "      <td>ooooE0hkAFBkED90ChDDiBFAf</td>\n",
       "      <td>0</td>\n",
       "    </tr>\n",
       "  </tbody>\n",
       "</table>\n",
       "</div>"
      ],
      "text/plain": [
       "                           cookie  conversion\n",
       "586736  ooooohAFofEnonEikhAi3fF9o  0         \n",
       "586735  ooooiBh70D3k3BfAhDFfii9h7  0         \n",
       "586733  ooooEiB0CCoEf9fiiC90Dfhfk  0         \n",
       "586730  ooooEBE0o0D97ACAAAnDoi3F0  0         \n",
       "586729  ooooE0hkAFBkED90ChDDiBFAf  0         "
      ]
     },
     "execution_count": 8,
     "metadata": {},
     "output_type": "execute_result"
    }
   ],
   "source": [
    "df_last_interaction = df.drop_duplicates('cookie', keep='last')[['cookie', 'conversion']]\n",
    "df_last_interaction.head()"
   ]
  },
  {
   "cell_type": "code",
   "execution_count": 9,
   "id": "diverse-society",
   "metadata": {},
   "outputs": [
    {
     "data": {
      "text/html": [
       "<div>\n",
       "<style scoped>\n",
       "    .dataframe tbody tr th:only-of-type {\n",
       "        vertical-align: middle;\n",
       "    }\n",
       "\n",
       "    .dataframe tbody tr th {\n",
       "        vertical-align: top;\n",
       "    }\n",
       "\n",
       "    .dataframe thead th {\n",
       "        text-align: right;\n",
       "    }\n",
       "</style>\n",
       "<table border=\"1\" class=\"dataframe\">\n",
       "  <thead>\n",
       "    <tr style=\"text-align: right;\">\n",
       "      <th></th>\n",
       "      <th>cookie</th>\n",
       "      <th>channel</th>\n",
       "      <th>conversion</th>\n",
       "    </tr>\n",
       "  </thead>\n",
       "  <tbody>\n",
       "    <tr>\n",
       "      <th>0</th>\n",
       "      <td>00000FkCnDfDDf0iC97iC703B</td>\n",
       "      <td>[Instagram, Online Display, Online Display, Online Display]</td>\n",
       "      <td>0</td>\n",
       "    </tr>\n",
       "    <tr>\n",
       "      <th>1</th>\n",
       "      <td>0000nACkD9nFkBBDECD3ki00E</td>\n",
       "      <td>[Paid Search, Paid Search, Paid Search, Paid Search, Paid Search, Paid Search]</td>\n",
       "      <td>0</td>\n",
       "    </tr>\n",
       "    <tr>\n",
       "      <th>2</th>\n",
       "      <td>0003EfE37E93D0BC03iBhBBhF</td>\n",
       "      <td>[Paid Search, Paid Search, Paid Search, Paid Search, Paid Search]</td>\n",
       "      <td>0</td>\n",
       "    </tr>\n",
       "    <tr>\n",
       "      <th>3</th>\n",
       "      <td>00073CFE3FoFCn70fBhB3kfon</td>\n",
       "      <td>[Instagram]</td>\n",
       "      <td>0</td>\n",
       "    </tr>\n",
       "    <tr>\n",
       "      <th>4</th>\n",
       "      <td>00079hhBkDF3k3kDkiFi9EFAD</td>\n",
       "      <td>[Paid Search]</td>\n",
       "      <td>0</td>\n",
       "    </tr>\n",
       "  </tbody>\n",
       "</table>\n",
       "</div>"
      ],
      "text/plain": [
       "                      cookie                                                                         channel  conversion\n",
       "0  00000FkCnDfDDf0iC97iC703B  [Instagram, Online Display, Online Display, Online Display]                     0         \n",
       "1  0000nACkD9nFkBBDECD3ki00E  [Paid Search, Paid Search, Paid Search, Paid Search, Paid Search, Paid Search]  0         \n",
       "2  0003EfE37E93D0BC03iBhBBhF  [Paid Search, Paid Search, Paid Search, Paid Search, Paid Search]               0         \n",
       "3  00073CFE3FoFCn70fBhB3kfon  [Instagram]                                                                     0         \n",
       "4  00079hhBkDF3k3kDkiFi9EFAD  [Paid Search]                                                                   0         "
      ]
     },
     "execution_count": 9,
     "metadata": {},
     "output_type": "execute_result"
    }
   ],
   "source": [
    "df_paths = pd.merge(df_paths, df_last_interaction, how='left', on='cookie')\n",
    "df_paths.head()"
   ]
  },
  {
   "cell_type": "code",
   "execution_count": 10,
   "id": "handled-billy",
   "metadata": {
    "scrolled": true
   },
   "outputs": [
    {
     "data": {
      "text/html": [
       "<div>\n",
       "<style scoped>\n",
       "    .dataframe tbody tr th:only-of-type {\n",
       "        vertical-align: middle;\n",
       "    }\n",
       "\n",
       "    .dataframe tbody tr th {\n",
       "        vertical-align: top;\n",
       "    }\n",
       "\n",
       "    .dataframe thead th {\n",
       "        text-align: right;\n",
       "    }\n",
       "</style>\n",
       "<table border=\"1\" class=\"dataframe\">\n",
       "  <thead>\n",
       "    <tr style=\"text-align: right;\">\n",
       "      <th></th>\n",
       "      <th>cookie</th>\n",
       "      <th>path</th>\n",
       "    </tr>\n",
       "  </thead>\n",
       "  <tbody>\n",
       "    <tr>\n",
       "      <th>0</th>\n",
       "      <td>00000FkCnDfDDf0iC97iC703B</td>\n",
       "      <td>Start,Instagram,Online Display,Online Display,Online Display,Null</td>\n",
       "    </tr>\n",
       "    <tr>\n",
       "      <th>1</th>\n",
       "      <td>0000nACkD9nFkBBDECD3ki00E</td>\n",
       "      <td>Start,Paid Search,Paid Search,Paid Search,Paid Search,Paid Search,Paid Search,Null</td>\n",
       "    </tr>\n",
       "    <tr>\n",
       "      <th>2</th>\n",
       "      <td>0003EfE37E93D0BC03iBhBBhF</td>\n",
       "      <td>Start,Paid Search,Paid Search,Paid Search,Paid Search,Paid Search,Null</td>\n",
       "    </tr>\n",
       "    <tr>\n",
       "      <th>3</th>\n",
       "      <td>00073CFE3FoFCn70fBhB3kfon</td>\n",
       "      <td>Start,Instagram,Null</td>\n",
       "    </tr>\n",
       "    <tr>\n",
       "      <th>4</th>\n",
       "      <td>00079hhBkDF3k3kDkiFi9EFAD</td>\n",
       "      <td>Start,Paid Search,Null</td>\n",
       "    </tr>\n",
       "  </tbody>\n",
       "</table>\n",
       "</div>"
      ],
      "text/plain": [
       "                      cookie                                                                                path\n",
       "0  00000FkCnDfDDf0iC97iC703B  Start,Instagram,Online Display,Online Display,Online Display,Null                 \n",
       "1  0000nACkD9nFkBBDECD3ki00E  Start,Paid Search,Paid Search,Paid Search,Paid Search,Paid Search,Paid Search,Null\n",
       "2  0003EfE37E93D0BC03iBhBBhF  Start,Paid Search,Paid Search,Paid Search,Paid Search,Paid Search,Null            \n",
       "3  00073CFE3FoFCn70fBhB3kfon  Start,Instagram,Null                                                              \n",
       "4  00079hhBkDF3k3kDkiFi9EFAD  Start,Paid Search,Null                                                            "
      ]
     },
     "execution_count": 10,
     "metadata": {},
     "output_type": "execute_result"
    }
   ],
   "source": [
    "df_paths['path'] = np.where(\n",
    "    df_paths['conversion'] == 0,\n",
    "    ['Start,'] + df_paths['channel'].apply(\",\".join) + [',Null'],\n",
    "    ['Start,'] + df_paths['channel'].apply(\",\".join) + [',Conversion'])\n",
    "df_paths = df_paths[['cookie', 'path']]\n",
    "df_paths.head()"
   ]
  },
  {
   "cell_type": "code",
   "execution_count": 11,
   "id": "limited-vermont",
   "metadata": {},
   "outputs": [],
   "source": [
    "df_paths[\"path\"] = df_paths[\"path\"].apply(lambda x : x.split(\",\"))"
   ]
  },
  {
   "cell_type": "code",
   "execution_count": 12,
   "id": "crazy-monaco",
   "metadata": {},
   "outputs": [
    {
     "data": {
      "text/html": [
       "<div>\n",
       "<style scoped>\n",
       "    .dataframe tbody tr th:only-of-type {\n",
       "        vertical-align: middle;\n",
       "    }\n",
       "\n",
       "    .dataframe tbody tr th {\n",
       "        vertical-align: top;\n",
       "    }\n",
       "\n",
       "    .dataframe thead th {\n",
       "        text-align: right;\n",
       "    }\n",
       "</style>\n",
       "<table border=\"1\" class=\"dataframe\">\n",
       "  <thead>\n",
       "    <tr style=\"text-align: right;\">\n",
       "      <th></th>\n",
       "      <th>cookie</th>\n",
       "      <th>path</th>\n",
       "    </tr>\n",
       "  </thead>\n",
       "  <tbody>\n",
       "    <tr>\n",
       "      <th>0</th>\n",
       "      <td>00000FkCnDfDDf0iC97iC703B</td>\n",
       "      <td>[Start, Instagram, Online Display, Online Display, Online Display, Null]</td>\n",
       "    </tr>\n",
       "    <tr>\n",
       "      <th>1</th>\n",
       "      <td>0000nACkD9nFkBBDECD3ki00E</td>\n",
       "      <td>[Start, Paid Search, Paid Search, Paid Search, Paid Search, Paid Search, Paid Search, Null]</td>\n",
       "    </tr>\n",
       "    <tr>\n",
       "      <th>2</th>\n",
       "      <td>0003EfE37E93D0BC03iBhBBhF</td>\n",
       "      <td>[Start, Paid Search, Paid Search, Paid Search, Paid Search, Paid Search, Null]</td>\n",
       "    </tr>\n",
       "    <tr>\n",
       "      <th>3</th>\n",
       "      <td>00073CFE3FoFCn70fBhB3kfon</td>\n",
       "      <td>[Start, Instagram, Null]</td>\n",
       "    </tr>\n",
       "    <tr>\n",
       "      <th>4</th>\n",
       "      <td>00079hhBkDF3k3kDkiFi9EFAD</td>\n",
       "      <td>[Start, Paid Search, Null]</td>\n",
       "    </tr>\n",
       "  </tbody>\n",
       "</table>\n",
       "</div>"
      ],
      "text/plain": [
       "                      cookie                                                                                         path\n",
       "0  00000FkCnDfDDf0iC97iC703B  [Start, Instagram, Online Display, Online Display, Online Display, Null]                   \n",
       "1  0000nACkD9nFkBBDECD3ki00E  [Start, Paid Search, Paid Search, Paid Search, Paid Search, Paid Search, Paid Search, Null]\n",
       "2  0003EfE37E93D0BC03iBhBBhF  [Start, Paid Search, Paid Search, Paid Search, Paid Search, Paid Search, Null]             \n",
       "3  00073CFE3FoFCn70fBhB3kfon  [Start, Instagram, Null]                                                                   \n",
       "4  00079hhBkDF3k3kDkiFi9EFAD  [Start, Paid Search, Null]                                                                 "
      ]
     },
     "execution_count": 12,
     "metadata": {},
     "output_type": "execute_result"
    }
   ],
   "source": [
    "df_paths.head()"
   ]
  },
  {
   "cell_type": "markdown",
   "id": "copyrighted-address",
   "metadata": {},
   "source": [
    "#### Markov Chains"
   ]
  },
  {
   "cell_type": "markdown",
   "id": "modular-mills",
   "metadata": {},
   "source": [
    "We can now move onto the actual Markov Chain method.\n",
    "The algorithm for Markov Chains can be summarized in 2 steps:\n",
    " - Calculate transition probabilities between all states in our state-space\n",
    " - Calculate removal effects\n",
    " \n",
    "We’ll start by defining a list of all user journeys, the number of total conversion and the base level conversion rate. All things we’ll make use of later:"
   ]
  },
  {
   "cell_type": "code",
   "execution_count": 13,
   "id": "moral-stake",
   "metadata": {},
   "outputs": [],
   "source": [
    "list_of_paths = df_paths['path']\n",
    "total_conversions = sum(path.count('Conversion') for path in df_paths['path'].tolist())\n",
    "base_conversion_rate = total_conversions / len(list_of_paths)"
   ]
  },
  {
   "cell_type": "code",
   "execution_count": 14,
   "id": "elect-infection",
   "metadata": {},
   "outputs": [
    {
     "data": {
      "text/plain": [
       "0.07346277508454528"
      ]
     },
     "execution_count": 14,
     "metadata": {},
     "output_type": "execute_result"
    }
   ],
   "source": [
    "base_conversion_rate"
   ]
  },
  {
   "cell_type": "code",
   "execution_count": 15,
   "id": "quality-consensus",
   "metadata": {},
   "outputs": [
    {
     "data": {
      "text/plain": [
       "0    [Start, Instagram, Online Display, Online Display, Online Display, Null]                   \n",
       "1    [Start, Paid Search, Paid Search, Paid Search, Paid Search, Paid Search, Paid Search, Null]\n",
       "2    [Start, Paid Search, Paid Search, Paid Search, Paid Search, Paid Search, Null]             \n",
       "3    [Start, Instagram, Null]                                                                   \n",
       "4    [Start, Paid Search, Null]                                                                 \n",
       "Name: path, dtype: object"
      ]
     },
     "execution_count": 15,
     "metadata": {},
     "output_type": "execute_result"
    }
   ],
   "source": [
    "list_of_paths[:5]"
   ]
  },
  {
   "cell_type": "markdown",
   "id": "mineral-while",
   "metadata": {},
   "source": [
    "Next, we’ll define a function that identifies all potential state transitions and outputs a dictionary containing these. We’ll use this as an input when calculating transition probabilities:"
   ]
  },
  {
   "cell_type": "code",
   "execution_count": 16,
   "id": "compliant-inclusion",
   "metadata": {},
   "outputs": [],
   "source": [
    "def transition_states(list_of_paths):\n",
    "    list_of_unique_channels = set(x for element in list_of_paths for x in element)\n",
    "    transition_states = {x + '>' + y: 0 for x in list_of_unique_channels for y in list_of_unique_channels}\n",
    "\n",
    "    for possible_state in list_of_unique_channels:\n",
    "        if possible_state not in ['Conversion', 'Null']:\n",
    "            for user_path in list_of_paths:\n",
    "                if possible_state in user_path:\n",
    "                    indices = [i for i, s in enumerate(user_path) if possible_state in s]\n",
    "                    for col in indices:\n",
    "                        transition_states[user_path[col] + '>' + user_path[col + 1]] += 1\n",
    "\n",
    "    return transition_states\n"
   ]
  },
  {
   "cell_type": "code",
   "execution_count": 17,
   "id": "million-tournament",
   "metadata": {
    "scrolled": false
   },
   "outputs": [
    {
     "data": {
      "text/plain": [
       "{'Paid Search>Paid Search': 58453,\n",
       " 'Paid Search>Conversion': 4547,\n",
       " 'Paid Search>Start': 0,\n",
       " 'Paid Search>Online Display': 6281,\n",
       " 'Paid Search>Null': 67099,\n",
       " 'Paid Search>Instagram': 3431,\n",
       " 'Paid Search>Facebook': 7883,\n",
       " 'Paid Search>Online Video': 3746,\n",
       " 'Conversion>Paid Search': 0,\n",
       " 'Conversion>Conversion': 0,\n",
       " 'Conversion>Start': 0,\n",
       " 'Conversion>Online Display': 0,\n",
       " 'Conversion>Null': 0,\n",
       " 'Conversion>Instagram': 0,\n",
       " 'Conversion>Facebook': 0,\n",
       " 'Conversion>Online Video': 0,\n",
       " 'Start>Paid Search': 76210,\n",
       " 'Start>Conversion': 0,\n",
       " 'Start>Start': 0,\n",
       " 'Start>Online Display': 34250,\n",
       " 'Start>Null': 0,\n",
       " 'Start>Instagram': 28618,\n",
       " 'Start>Facebook': 66848,\n",
       " 'Start>Online Video': 34182,\n",
       " 'Online Display>Paid Search': 5496,\n",
       " 'Online Display>Conversion': 2139,\n",
       " 'Online Display>Start': 0,\n",
       " 'Online Display>Online Display': 24798,\n",
       " 'Online Display>Null': 32473,\n",
       " 'Online Display>Instagram': 1497,\n",
       " 'Online Display>Facebook': 3481,\n",
       " 'Online Display>Online Video': 1169,\n",
       " 'Null>Paid Search': 0,\n",
       " 'Null>Conversion': 0,\n",
       " 'Null>Start': 0,\n",
       " 'Null>Online Display': 0,\n",
       " 'Null>Null': 0,\n",
       " 'Null>Instagram': 0,\n",
       " 'Null>Facebook': 0,\n",
       " 'Null>Online Video': 0,\n",
       " 'Instagram>Paid Search': 2508,\n",
       " 'Instagram>Conversion': 2244,\n",
       " 'Instagram>Start': 0,\n",
       " 'Instagram>Online Display': 1405,\n",
       " 'Instagram>Null': 27356,\n",
       " 'Instagram>Instagram': 12001,\n",
       " 'Instagram>Facebook': 28014,\n",
       " 'Instagram>Online Video': 1673,\n",
       " 'Facebook>Paid Search': 5977,\n",
       " 'Facebook>Conversion': 5301,\n",
       " 'Facebook>Start': 0,\n",
       " 'Facebook>Online Display': 3198,\n",
       " 'Facebook>Null': 63813,\n",
       " 'Facebook>Instagram': 28012,\n",
       " 'Facebook>Facebook': 65576,\n",
       " 'Facebook>Online Video': 3864,\n",
       " 'Online Video>Paid Search': 2796,\n",
       " 'Online Video>Conversion': 3408,\n",
       " 'Online Video>Start': 0,\n",
       " 'Online Video>Online Display': 1121,\n",
       " 'Online Video>Null': 31728,\n",
       " 'Online Video>Instagram': 1642,\n",
       " 'Online Video>Facebook': 3939,\n",
       " 'Online Video>Online Video': 68668}"
      ]
     },
     "execution_count": 17,
     "metadata": {},
     "output_type": "execute_result"
    }
   ],
   "source": [
    "trans_states = transition_states(list_of_paths)\n",
    "trans_states"
   ]
  },
  {
   "cell_type": "code",
   "execution_count": 18,
   "id": "abstract-rescue",
   "metadata": {},
   "outputs": [],
   "source": [
    "def transition_prob(trans_dict):\n",
    "    list_of_unique_channels = set(x for element in list_of_paths for x in element)\n",
    "    trans_prob = defaultdict(dict)\n",
    "    for state in list_of_unique_channels:\n",
    "        if state not in ['Conversion', 'Null']:\n",
    "            counter = 0\n",
    "            index = [i for i, s in enumerate(trans_dict) if state + '>' in s]\n",
    "            for col in index:\n",
    "                if trans_dict[list(trans_dict)[col]] > 0:\n",
    "                    counter += trans_dict[list(trans_dict)[col]]\n",
    "            for col in index:\n",
    "                if trans_dict[list(trans_dict)[col]] > 0:\n",
    "                    state_prob = float((trans_dict[list(trans_dict)[col]])) / float(counter)\n",
    "                    trans_prob[list(trans_dict)[col]] = state_prob\n",
    "\n",
    "    return trans_prob\n",
    "\n",
    "\n",
    "trans_prob = transition_prob(trans_states)"
   ]
  },
  {
   "cell_type": "code",
   "execution_count": 19,
   "id": "flush-guitar",
   "metadata": {},
   "outputs": [
    {
     "data": {
      "text/plain": [
       "defaultdict(dict,\n",
       "            {'Paid Search>Paid Search': 0.38598124669836237,\n",
       "             'Paid Search>Conversion': 0.030025092445853142,\n",
       "             'Paid Search>Online Display': 0.04147517168515584,\n",
       "             'Paid Search>Null': 0.44307316428948756,\n",
       "             'Paid Search>Instagram': 0.022655837295298468,\n",
       "             'Paid Search>Facebook': 0.052053618594823034,\n",
       "             'Paid Search>Online Video': 0.024735868991019545,\n",
       "             'Start>Paid Search': 0.31739883718993117,\n",
       "             'Start>Online Display': 0.14264414346877238,\n",
       "             'Start>Instagram': 0.11918803205224315,\n",
       "             'Start>Facebook': 0.2784080497109634,\n",
       "             'Start>Online Video': 0.14236093757808985,\n",
       "             'Online Display>Paid Search': 0.07735071003335538,\n",
       "             'Online Display>Conversion': 0.03010428834813449,\n",
       "             'Online Display>Online Display': 0.3490070792225522,\n",
       "             'Online Display>Null': 0.45702503764795294,\n",
       "             'Online Display>Instagram': 0.021068779643364812,\n",
       "             'Online Display>Facebook': 0.04899159782134463,\n",
       "             'Online Display>Online Video': 0.01645250728329557,\n",
       "             'Instagram>Paid Search': 0.033350620337495515,\n",
       "             'Instagram>Conversion': 0.0298400287230223,\n",
       "             'Instagram>Online Display': 0.018683262190662357,\n",
       "             'Instagram>Null': 0.3637717583542772,\n",
       "             'Instagram>Instagram': 0.15958564380792808,\n",
       "             'Instagram>Facebook': 0.3725216419994415,\n",
       "             'Instagram>Online Video': 0.022247044587173043,\n",
       "             'Facebook>Paid Search': 0.034010276486420354,\n",
       "             'Facebook>Conversion': 0.030163706818556853,\n",
       "             'Facebook>Online Display': 0.01819723342873888,\n",
       "             'Facebook>Null': 0.36310821037777186,\n",
       "             'Facebook>Instagram': 0.15939365316004803,\n",
       "             'Facebook>Facebook': 0.3731400185500253,\n",
       "             'Facebook>Online Video': 0.021986901178438725,\n",
       "             'Online Video>Paid Search': 0.024677410813577872,\n",
       "             'Online Video>Conversion': 0.030078904167622815,\n",
       "             'Online Video>Online Display': 0.009893911846216307,\n",
       "             'Online Video>Null': 0.28003036133519266,\n",
       "             'Online Video>Instagram': 0.01449224197278071,\n",
       "             'Online Video>Facebook': 0.03476549398951475,\n",
       "             'Online Video>Online Video': 0.6060616758750949})"
      ]
     },
     "execution_count": 19,
     "metadata": {},
     "output_type": "execute_result"
    }
   ],
   "source": [
    "trans_prob"
   ]
  },
  {
   "cell_type": "markdown",
   "id": "copyrighted-grounds",
   "metadata": {},
   "source": [
    "The above should leave us with a dictionary containing all transitions and their respective transition probabilities given our historical data.\n",
    "The final step is then to identify removal effects for each of our marketing channels. To do this we’ll make use of linear algebra and matrix manipulations, therefore let’s turn our above transition probabilities dictionary into a data frame (matrix):"
   ]
  },
  {
   "cell_type": "code",
   "execution_count": 20,
   "id": "prime-egyptian",
   "metadata": {},
   "outputs": [],
   "source": [
    "def transition_matrix(list_of_paths, transition_probabilities):\n",
    "    trans_matrix = pd.DataFrame()\n",
    "    list_of_unique_channels = set(x for element in list_of_paths for x in element)\n",
    "\n",
    "    for channel in list_of_unique_channels:\n",
    "        trans_matrix[channel] = 0.00\n",
    "        trans_matrix.loc[channel] = 0.00\n",
    "        trans_matrix.loc[channel][channel] = 1.0 if channel in ['Conversion', 'Null'] else 0.0\n",
    "\n",
    "    for key, value in transition_probabilities.items():\n",
    "        origin, destination = key.split('>')\n",
    "        trans_matrix.at[origin, destination] = value\n",
    "\n",
    "    return trans_matrix\n",
    "\n",
    "\n",
    "trans_matrix = transition_matrix(list_of_paths, trans_prob)"
   ]
  },
  {
   "cell_type": "code",
   "execution_count": 21,
   "id": "improving-sixth",
   "metadata": {},
   "outputs": [
    {
     "data": {
      "text/plain": [
       "<AxesSubplot:>"
      ]
     },
     "execution_count": 21,
     "metadata": {},
     "output_type": "execute_result"
    },
    {
     "data": {
      "image/png": "[encoded data removed]",
      "text/plain": [
       "<Figure size 432x288 with 2 Axes>"
      ]
     },
     "metadata": {
      "needs_background": "light"
     },
     "output_type": "display_data"
    }
   ],
   "source": [
    "sns.heatmap(trans_matrix,cmap=\"YlGnBu\",annot= True)"
   ]
  },
  {
   "cell_type": "markdown",
   "id": "standard-aspect",
   "metadata": {},
   "source": [
    "Using historical context and the heat map above we not only gain insights into how each marketing channel is driving users towards our conversion event, but we also gain critical information around how our marketing channels are interacting with each other. Given today’s typical multi-touch conversion journeys this information can prove to be extremely valuable and allows us to optimize our multi-channel customer journeys for conversion.\n",
    "We can now iteratively go through each of our channels and assess the impact it would have on overall conversion if we were to remove a channel from our state-space. We’ll do this and add the resulting removal effects to an output dictionary:\n",
    "\n",
    "#ref https://towardsdatascience.com/multi-channel-marketing-attribution-with-markov-6b744c0b119a#:~:text=of%2067.5%25%3A-,Campaign%20attribution,rate%20without%20it%20in%20place.\n",
    "\n",
    "A Markov graph can be used to measure the importance of each campaign by calculating what is known as the Removal Effect. A campaign’s effectiveness is determined by removing it from the graph and simulating buyer journeys to measure the change in success rate without it in place. Removal Effect is a proxy for weight, and it’s calculated for each campaign in the Markov graph.\n",
    "\n",
    "Using Removal Effect for marketing attribution is the final piece of the puzzle. To calculate each campaign’s attribution value we can use the following formula: A = V * (Rt / Rv)\n",
    " - A = Campaign’s attribution value\n",
    " - V = Total value to divide. For example, the total USD value of all successful buyer journeys used as input to the Markov model\n",
    " - Rt = Campaign’s Removal Effect\n",
    " - Rv = Sum of all Removal Effect values\n",
    " \n",
    "Let’s walk through an example. Say that during the first quarter of the fiscal year the total USD value of all successful buyer journeys is 1M dollars. The same buyer journeys are used to build a Markov model and it calculated the Removal Effect for our Ad campaign to be 0.7 (i.e. The buyer journey success rate dropped by 70 percent when the Ad campaign was removed from the Markov graph). We know the Removal Effect values for every campaign observed in the input data, and for this example let’s say they sum to 2.8. By plugging the numbers into the formula we calculate the attribution value for our Ad campaign to be $250k:\n",
    "$250,000 = $1,000,000 * (0.7 / 2.8)"
   ]
  },
  {
   "cell_type": "code",
   "execution_count": 22,
   "id": "compliant-buffalo",
   "metadata": {},
   "outputs": [
    {
     "data": {
      "text/html": [
       "<div>\n",
       "<style scoped>\n",
       "    .dataframe tbody tr th:only-of-type {\n",
       "        vertical-align: middle;\n",
       "    }\n",
       "\n",
       "    .dataframe tbody tr th {\n",
       "        vertical-align: top;\n",
       "    }\n",
       "\n",
       "    .dataframe thead th {\n",
       "        text-align: right;\n",
       "    }\n",
       "</style>\n",
       "<table border=\"1\" class=\"dataframe\">\n",
       "  <thead>\n",
       "    <tr style=\"text-align: right;\">\n",
       "      <th></th>\n",
       "      <th>Paid Search</th>\n",
       "      <th>Conversion</th>\n",
       "      <th>Start</th>\n",
       "      <th>Online Display</th>\n",
       "      <th>Null</th>\n",
       "      <th>Instagram</th>\n",
       "      <th>Facebook</th>\n",
       "      <th>Online Video</th>\n",
       "    </tr>\n",
       "  </thead>\n",
       "  <tbody>\n",
       "    <tr>\n",
       "      <th>Paid Search</th>\n",
       "      <td>0.385981</td>\n",
       "      <td>0.030025</td>\n",
       "      <td>0.0</td>\n",
       "      <td>0.041475</td>\n",
       "      <td>0.443073</td>\n",
       "      <td>0.022656</td>\n",
       "      <td>0.052054</td>\n",
       "      <td>0.024736</td>\n",
       "    </tr>\n",
       "    <tr>\n",
       "      <th>Conversion</th>\n",
       "      <td>0.000000</td>\n",
       "      <td>1.000000</td>\n",
       "      <td>0.0</td>\n",
       "      <td>0.000000</td>\n",
       "      <td>0.000000</td>\n",
       "      <td>0.000000</td>\n",
       "      <td>0.000000</td>\n",
       "      <td>0.000000</td>\n",
       "    </tr>\n",
       "    <tr>\n",
       "      <th>Start</th>\n",
       "      <td>0.317399</td>\n",
       "      <td>0.000000</td>\n",
       "      <td>0.0</td>\n",
       "      <td>0.142644</td>\n",
       "      <td>0.000000</td>\n",
       "      <td>0.119188</td>\n",
       "      <td>0.278408</td>\n",
       "      <td>0.142361</td>\n",
       "    </tr>\n",
       "    <tr>\n",
       "      <th>Online Display</th>\n",
       "      <td>0.077351</td>\n",
       "      <td>0.030104</td>\n",
       "      <td>0.0</td>\n",
       "      <td>0.349007</td>\n",
       "      <td>0.457025</td>\n",
       "      <td>0.021069</td>\n",
       "      <td>0.048992</td>\n",
       "      <td>0.016453</td>\n",
       "    </tr>\n",
       "    <tr>\n",
       "      <th>Null</th>\n",
       "      <td>0.000000</td>\n",
       "      <td>0.000000</td>\n",
       "      <td>0.0</td>\n",
       "      <td>0.000000</td>\n",
       "      <td>1.000000</td>\n",
       "      <td>0.000000</td>\n",
       "      <td>0.000000</td>\n",
       "      <td>0.000000</td>\n",
       "    </tr>\n",
       "    <tr>\n",
       "      <th>Instagram</th>\n",
       "      <td>0.033351</td>\n",
       "      <td>0.029840</td>\n",
       "      <td>0.0</td>\n",
       "      <td>0.018683</td>\n",
       "      <td>0.363772</td>\n",
       "      <td>0.159586</td>\n",
       "      <td>0.372522</td>\n",
       "      <td>0.022247</td>\n",
       "    </tr>\n",
       "    <tr>\n",
       "      <th>Facebook</th>\n",
       "      <td>0.034010</td>\n",
       "      <td>0.030164</td>\n",
       "      <td>0.0</td>\n",
       "      <td>0.018197</td>\n",
       "      <td>0.363108</td>\n",
       "      <td>0.159394</td>\n",
       "      <td>0.373140</td>\n",
       "      <td>0.021987</td>\n",
       "    </tr>\n",
       "    <tr>\n",
       "      <th>Online Video</th>\n",
       "      <td>0.024677</td>\n",
       "      <td>0.030079</td>\n",
       "      <td>0.0</td>\n",
       "      <td>0.009894</td>\n",
       "      <td>0.280030</td>\n",
       "      <td>0.014492</td>\n",
       "      <td>0.034765</td>\n",
       "      <td>0.606062</td>\n",
       "    </tr>\n",
       "  </tbody>\n",
       "</table>\n",
       "</div>"
      ],
      "text/plain": [
       "                Paid Search  Conversion  Start  Online Display      Null  Instagram  Facebook  Online Video\n",
       "Paid Search     0.385981     0.030025    0.0    0.041475        0.443073  0.022656   0.052054  0.024736    \n",
       "Conversion      0.000000     1.000000    0.0    0.000000        0.000000  0.000000   0.000000  0.000000    \n",
       "Start           0.317399     0.000000    0.0    0.142644        0.000000  0.119188   0.278408  0.142361    \n",
       "Online Display  0.077351     0.030104    0.0    0.349007        0.457025  0.021069   0.048992  0.016453    \n",
       "Null            0.000000     0.000000    0.0    0.000000        1.000000  0.000000   0.000000  0.000000    \n",
       "Instagram       0.033351     0.029840    0.0    0.018683        0.363772  0.159586   0.372522  0.022247    \n",
       "Facebook        0.034010     0.030164    0.0    0.018197        0.363108  0.159394   0.373140  0.021987    \n",
       "Online Video    0.024677     0.030079    0.0    0.009894        0.280030  0.014492   0.034765  0.606062    "
      ]
     },
     "execution_count": 22,
     "metadata": {},
     "output_type": "execute_result"
    }
   ],
   "source": [
    "trans_matrix"
   ]
  },
  {
   "cell_type": "code",
   "execution_count": 23,
   "id": "australian-arthur",
   "metadata": {},
   "outputs": [],
   "source": [
    "def removal_effects(df, conversion_rate):\n",
    "    removal_effects_dict = {}\n",
    "    channels = [channel for channel in df.columns if channel not in ['Start',\n",
    "                                                                     'Null',\n",
    "                                                                     'Conversion']]\n",
    "    for channel in channels:\n",
    "        \n",
    "        # dropping the channel\n",
    "        removal_df = df.drop(channel, axis=1).drop(channel, axis=0)\n",
    "        \n",
    "        \n",
    "        for column in removal_df.columns:\n",
    "            row_sum = np.sum(list(removal_df.loc[column]))\n",
    "            null_pct = float(1) - row_sum\n",
    "            if null_pct != 0:\n",
    "                removal_df.loc[column]['Null'] = null_pct\n",
    "            removal_df.loc['Null']['Null'] = 1.0\n",
    "\n",
    "        removal_to_conv = removal_df[\n",
    "            ['Null', 'Conversion']].drop(['Null', 'Conversion'], axis=0)\n",
    "        removal_to_non_conv = removal_df.drop(\n",
    "            ['Null', 'Conversion'], axis=1).drop(['Null', 'Conversion'], axis=0)\n",
    "\n",
    "        removal_inv_diff = np.linalg.inv(\n",
    "            np.identity(\n",
    "                len(removal_to_non_conv.columns)) - np.asarray(removal_to_non_conv))\n",
    "        removal_dot_prod = np.dot(removal_inv_diff, np.asarray(removal_to_conv))\n",
    "        removal_cvr = pd.DataFrame(removal_dot_prod,\n",
    "                                   index=removal_to_conv.index)[[1]].loc['Start'].values[0]\n",
    "        removal_effect = 1 - removal_cvr / conversion_rate\n",
    "        removal_effects_dict[channel] = removal_effect\n",
    "\n",
    "    return removal_effects_dict"
   ]
  },
  {
   "cell_type": "code",
   "execution_count": 27,
   "id": "conditional-swedish",
   "metadata": {},
   "outputs": [
    {
     "data": {
      "text/plain": [
       "{'Paid Search': 0.34139431314683333,\n",
       " 'Online Display': 0.1668966927245028,\n",
       " 'Instagram': 0.23819930844630488,\n",
       " 'Facebook': 0.413938861296829,\n",
       " 'Online Video': 0.22939605439512434}"
      ]
     },
     "execution_count": 27,
     "metadata": {},
     "output_type": "execute_result"
    }
   ],
   "source": [
    "removal_effects_dict = removal_effects(trans_matrix, base_conversion_rate)\n",
    "removal_effects_dict"
   ]
  },
  {
   "cell_type": "code",
   "execution_count": 28,
   "id": "posted-problem",
   "metadata": {},
   "outputs": [
    {
     "data": {
      "text/plain": [
       "17639"
      ]
     },
     "execution_count": 28,
     "metadata": {},
     "output_type": "execute_result"
    }
   ],
   "source": [
    "total_conversions"
   ]
  },
  {
   "cell_type": "code",
   "execution_count": 25,
   "id": "mineral-reaction",
   "metadata": {},
   "outputs": [],
   "source": [
    "def markov_chain_allocations(removal_effects, total_conversions):\n",
    "    re_sum = np.sum(list(removal_effects.values()))\n",
    "\n",
    "    return {k: (v / re_sum) * total_conversions for k, v in removal_effects.items()}"
   ]
  },
  {
   "cell_type": "code",
   "execution_count": 26,
   "id": "developed-opportunity",
   "metadata": {},
   "outputs": [
    {
     "data": {
      "text/plain": [
       "{'Paid Search': 4332.814054293303,\n",
       " 'Online Display': 2118.173349714757,\n",
       " 'Instagram': 3023.1121949450917,\n",
       " 'Facebook': 5253.514914507893,\n",
       " 'Online Video': 2911.3854865389553}"
      ]
     },
     "execution_count": 26,
     "metadata": {},
     "output_type": "execute_result"
    }
   ],
   "source": [
    "markov_chain_allocations(removal_effects_dict, total_conversions)"
   ]
  },
  {
   "cell_type": "code",
   "execution_count": null,
   "id": "geographic-bankruptcy",
   "metadata": {},
   "outputs": [],
   "source": []
  },
  {
   "cell_type": "code",
   "execution_count": null,
   "id": "terminal-marine",
   "metadata": {},
   "outputs": [],
   "source": []
  },
  {
   "cell_type": "code",
   "execution_count": null,
   "id": "marked-courtesy",
   "metadata": {},
   "outputs": [],
   "source": []
  }
 ],
 "metadata": {
  "kernelspec": {
   "display_name": "Python 3",
   "language": "python",
   "name": "python3"
  },
  "language_info": {
   "codemirror_mode": {
    "name": "ipython",
    "version": 3
   },
   "file_extension": ".py",
   "mimetype": "text/x-python",
   "name": "python",
   "nbconvert_exporter": "python",
   "pygments_lexer": "ipython3",
   "version": "3.7.3"
  }
 },
 "nbformat": 4,
 "nbformat_minor": 5
}
