{
 "cells": [
  {
   "cell_type": "code",
   "execution_count": 1,
   "id": "strange-worker",
   "metadata": {},
   "outputs": [],
   "source": [
    "import numpy as np\n",
    "\n",
    "from scipy import stats\n",
    "from scipy. stats import skew\n",
    "import seaborn as sns\n",
    "import pandas as pd\n",
    "import matplotlib.pyplot as plt\n",
    "import warnings\n",
    "warnings.filterwarnings(\"ignore\")\n",
    "from sklearn.preprocessing import LabelEncoder, OneHotEncoder, OrdinalEncoder"
   ]
  },
  {
   "cell_type": "code",
   "execution_count": 2,
   "id": "metallic-spray",
   "metadata": {},
   "outputs": [
    {
     "data": {
      "text/html": [
       "<div>\n",
       "<style scoped>\n",
       "    .dataframe tbody tr th:only-of-type {\n",
       "        vertical-align: middle;\n",
       "    }\n",
       "\n",
       "    .dataframe tbody tr th {\n",
       "        vertical-align: top;\n",
       "    }\n",
       "\n",
       "    .dataframe thead th {\n",
       "        text-align: right;\n",
       "    }\n",
       "</style>\n",
       "<table border=\"1\" class=\"dataframe\">\n",
       "  <thead>\n",
       "    <tr style=\"text-align: right;\">\n",
       "      <th></th>\n",
       "      <th>state</th>\n",
       "      <th>product_</th>\n",
       "      <th>date</th>\n",
       "      <th>created_by</th>\n",
       "      <th>leads</th>\n",
       "      <th>prelim_quotes</th>\n",
       "      <th>final_qotes</th>\n",
       "      <th>purchases</th>\n",
       "      <th>cr</th>\n",
       "    </tr>\n",
       "  </thead>\n",
       "  <tbody>\n",
       "    <tr>\n",
       "      <th>0</th>\n",
       "      <td>al</td>\n",
       "      <td>ho3</td>\n",
       "      <td>7/1/2018</td>\n",
       "      <td>Agent</td>\n",
       "      <td>4</td>\n",
       "      <td>4</td>\n",
       "      <td>4</td>\n",
       "      <td>0</td>\n",
       "      <td>0.0</td>\n",
       "    </tr>\n",
       "    <tr>\n",
       "      <th>1</th>\n",
       "      <td>al</td>\n",
       "      <td>ho3</td>\n",
       "      <td>7/1/2018</td>\n",
       "      <td>Online</td>\n",
       "      <td>18</td>\n",
       "      <td>12</td>\n",
       "      <td>3</td>\n",
       "      <td>0</td>\n",
       "      <td>0.0</td>\n",
       "    </tr>\n",
       "    <tr>\n",
       "      <th>2</th>\n",
       "      <td>al</td>\n",
       "      <td>ho3</td>\n",
       "      <td>7/2/2018</td>\n",
       "      <td>Agent</td>\n",
       "      <td>2</td>\n",
       "      <td>2</td>\n",
       "      <td>2</td>\n",
       "      <td>0</td>\n",
       "      <td>0.0</td>\n",
       "    </tr>\n",
       "    <tr>\n",
       "      <th>3</th>\n",
       "      <td>al</td>\n",
       "      <td>ho3</td>\n",
       "      <td>7/2/2018</td>\n",
       "      <td>Online</td>\n",
       "      <td>19</td>\n",
       "      <td>13</td>\n",
       "      <td>1</td>\n",
       "      <td>0</td>\n",
       "      <td>0.0</td>\n",
       "    </tr>\n",
       "    <tr>\n",
       "      <th>4</th>\n",
       "      <td>al</td>\n",
       "      <td>ho3</td>\n",
       "      <td>7/3/2018</td>\n",
       "      <td>Agent</td>\n",
       "      <td>5</td>\n",
       "      <td>5</td>\n",
       "      <td>3</td>\n",
       "      <td>1</td>\n",
       "      <td>0.2</td>\n",
       "    </tr>\n",
       "  </tbody>\n",
       "</table>\n",
       "</div>"
      ],
      "text/plain": [
       "  state product_      date created_by  leads  prelim_quotes  final_qotes  \\\n",
       "0    al      ho3  7/1/2018      Agent      4              4            4   \n",
       "1    al      ho3  7/1/2018     Online     18             12            3   \n",
       "2    al      ho3  7/2/2018      Agent      2              2            2   \n",
       "3    al      ho3  7/2/2018     Online     19             13            1   \n",
       "4    al      ho3  7/3/2018      Agent      5              5            3   \n",
       "\n",
       "   purchases   cr  \n",
       "0          0  0.0  \n",
       "1          0  0.0  \n",
       "2          0  0.0  \n",
       "3          0  0.0  \n",
       "4          1  0.2  "
      ]
     },
     "execution_count": 2,
     "metadata": {},
     "output_type": "execute_result"
    }
   ],
   "source": [
    "df = pd.read_csv('TX_Rate_Change_Excercise_-_Data.csv')\n",
    "df.head()"
   ]
  },
  {
   "cell_type": "code",
   "execution_count": 3,
   "id": "accepted-wednesday",
   "metadata": {},
   "outputs": [
    {
     "data": {
      "text/html": [
       "<div>\n",
       "<style scoped>\n",
       "    .dataframe tbody tr th:only-of-type {\n",
       "        vertical-align: middle;\n",
       "    }\n",
       "\n",
       "    .dataframe tbody tr th {\n",
       "        vertical-align: top;\n",
       "    }\n",
       "\n",
       "    .dataframe thead th {\n",
       "        text-align: right;\n",
       "    }\n",
       "</style>\n",
       "<table border=\"1\" class=\"dataframe\">\n",
       "  <thead>\n",
       "    <tr style=\"text-align: right;\">\n",
       "      <th></th>\n",
       "      <th>state</th>\n",
       "      <th>product_</th>\n",
       "      <th>date</th>\n",
       "      <th>created_by</th>\n",
       "      <th>leads</th>\n",
       "      <th>prelim_quotes</th>\n",
       "      <th>final_qotes</th>\n",
       "      <th>purchases</th>\n",
       "      <th>cr</th>\n",
       "      <th>month_year</th>\n",
       "    </tr>\n",
       "  </thead>\n",
       "  <tbody>\n",
       "    <tr>\n",
       "      <th>0</th>\n",
       "      <td>al</td>\n",
       "      <td>ho3</td>\n",
       "      <td>7/1/2018</td>\n",
       "      <td>Agent</td>\n",
       "      <td>4</td>\n",
       "      <td>4</td>\n",
       "      <td>4</td>\n",
       "      <td>0</td>\n",
       "      <td>0.0</td>\n",
       "      <td>2018-07</td>\n",
       "    </tr>\n",
       "    <tr>\n",
       "      <th>1</th>\n",
       "      <td>al</td>\n",
       "      <td>ho3</td>\n",
       "      <td>7/1/2018</td>\n",
       "      <td>Online</td>\n",
       "      <td>18</td>\n",
       "      <td>12</td>\n",
       "      <td>3</td>\n",
       "      <td>0</td>\n",
       "      <td>0.0</td>\n",
       "      <td>2018-07</td>\n",
       "    </tr>\n",
       "    <tr>\n",
       "      <th>2</th>\n",
       "      <td>al</td>\n",
       "      <td>ho3</td>\n",
       "      <td>7/2/2018</td>\n",
       "      <td>Agent</td>\n",
       "      <td>2</td>\n",
       "      <td>2</td>\n",
       "      <td>2</td>\n",
       "      <td>0</td>\n",
       "      <td>0.0</td>\n",
       "      <td>2018-07</td>\n",
       "    </tr>\n",
       "    <tr>\n",
       "      <th>3</th>\n",
       "      <td>al</td>\n",
       "      <td>ho3</td>\n",
       "      <td>7/2/2018</td>\n",
       "      <td>Online</td>\n",
       "      <td>19</td>\n",
       "      <td>13</td>\n",
       "      <td>1</td>\n",
       "      <td>0</td>\n",
       "      <td>0.0</td>\n",
       "      <td>2018-07</td>\n",
       "    </tr>\n",
       "    <tr>\n",
       "      <th>4</th>\n",
       "      <td>al</td>\n",
       "      <td>ho3</td>\n",
       "      <td>7/3/2018</td>\n",
       "      <td>Agent</td>\n",
       "      <td>5</td>\n",
       "      <td>5</td>\n",
       "      <td>3</td>\n",
       "      <td>1</td>\n",
       "      <td>0.2</td>\n",
       "      <td>2018-07</td>\n",
       "    </tr>\n",
       "  </tbody>\n",
       "</table>\n",
       "</div>"
      ],
      "text/plain": [
       "  state product_      date created_by  leads  prelim_quotes  final_qotes  \\\n",
       "0    al      ho3  7/1/2018      Agent      4              4            4   \n",
       "1    al      ho3  7/1/2018     Online     18             12            3   \n",
       "2    al      ho3  7/2/2018      Agent      2              2            2   \n",
       "3    al      ho3  7/2/2018     Online     19             13            1   \n",
       "4    al      ho3  7/3/2018      Agent      5              5            3   \n",
       "\n",
       "   purchases   cr month_year  \n",
       "0          0  0.0    2018-07  \n",
       "1          0  0.0    2018-07  \n",
       "2          0  0.0    2018-07  \n",
       "3          0  0.0    2018-07  \n",
       "4          1  0.2    2018-07  "
      ]
     },
     "execution_count": 3,
     "metadata": {},
     "output_type": "execute_result"
    }
   ],
   "source": [
    "df['month_year'] = pd.to_datetime(df['date']).dt.to_period('M').astype(\"str\")\n",
    "df.columns\n",
    "df.head()"
   ]
  },
  {
   "cell_type": "markdown",
   "id": "successful-relaxation",
   "metadata": {},
   "source": [
    "### ASSUMPTIONS AND GROUND WORK\n",
    "\n",
    "#### 1. Here let us convert the number of leads, prelim_quotes, final_qotes, purchases to ratios because individually all the numbers are \"VANITY METRICS\" unless there is a ratio, we cannot know the inner meanings of these numbers.\n",
    "\n",
    "#### 2. Here we have changed the pricing algorithm, so the primary goal metric would be %customers who have purchased after obtaining the quote. That metric= purchases/prelim_quotes\n",
    "\n",
    "#### 3. The α value is a threshold we set, by which we say “if the probability of observing a result as extreme or more (p-value) is lower than α, then we reject the Null hypothesis”. Since our α=0.05 (indicating 5% probability), our confidence (1 — α) is 95%."
   ]
  },
  {
   "cell_type": "code",
   "execution_count": 4,
   "id": "macro-species",
   "metadata": {},
   "outputs": [],
   "source": [
    "def find_ratios(df):\n",
    "    \n",
    "    df[\"Prelim_lead_ratio\"] = round(df[\"prelim_quotes\"]/df[\"leads\"],3)\n",
    "    df[\"final_Prelim_ratio\"] = round(df[\"final_qotes\"]/df[\"prelim_quotes\"],3)\n",
    "    df[\"purchases_prelim_ratio\"] = round(df[\"purchases\"]/df[\"prelim_quotes\"],3)\n",
    "    df[\"purchases_final_ratio\"] = round(df[\"purchases\"]/df[\"final_qotes\"],3)\n",
    "    df[\"purchases_lead_ratio\"] = round(df[\"purchases\"]/df[\"leads\"],3)\n",
    "    \n",
    "    return df"
   ]
  },
  {
   "cell_type": "markdown",
   "id": "coupled-adelaide",
   "metadata": {},
   "source": [
    "### Let us check how different do agent and online website deal with the customers\n",
    "\n",
    "### 2. Comparing Agent and online for ho3 Product"
   ]
  },
  {
   "cell_type": "code",
   "execution_count": 5,
   "id": "speaking-fusion",
   "metadata": {},
   "outputs": [
    {
     "data": {
      "image/png": "[encoded data removed]",
      "text/plain": [
       "<Figure size 720x720 with 3 Axes>"
      ]
     },
     "metadata": {
      "needs_background": "light"
     },
     "output_type": "display_data"
    }
   ],
   "source": [
    "df2 = find_ratios(df[df.product_==\"ho3\"].groupby([\"month_year\",\"created_by\"])\\\n",
    "                  [\"leads\",\"prelim_quotes\",\"final_qotes\",\"purchases\"].\\\n",
    "                  sum().reset_index())\n",
    "\n",
    "fig, axes = plt.subplots(3, 1, figsize=(10, 10))\n",
    "axes = axes.flatten()\n",
    "for i,j in zip(df2.month_year.unique(),axes):\n",
    "    df3=pd.melt(df2[df2[\"month_year\"]==i], id_vars=['created_by'], \\\n",
    "                value_vars=[\"Prelim_lead_ratio\",\"final_Prelim_ratio\",\"purchases_final_ratio\"])\n",
    "    sns.barplot(data = df3 , x=\"variable\", hue=\"created_by\",y=\"value\",ax=j)\n",
    "    j.set_title(i)\n",
    "    plt.subplots_adjust(hspace = 0.5)"
   ]
  },
  {
   "cell_type": "markdown",
   "id": "affecting-execution",
   "metadata": {},
   "source": [
    "### 3. Comparing Agent and online for  ho6 Product"
   ]
  },
  {
   "cell_type": "code",
   "execution_count": 6,
   "id": "nervous-bristol",
   "metadata": {},
   "outputs": [
    {
     "data": {
      "image/png": "[encoded data removed]",
      "text/plain": [
       "<Figure size 720x720 with 3 Axes>"
      ]
     },
     "metadata": {
      "needs_background": "light"
     },
     "output_type": "display_data"
    }
   ],
   "source": [
    "df2 = find_ratios(df[df.product_==\"ho6\"].groupby([\"month_year\",\"created_by\"])\\\n",
    "                  [\"leads\",\"prelim_quotes\",\"final_qotes\",\"purchases\"].\\\n",
    "                  sum().reset_index())\n",
    "\n",
    "fig, axes = plt.subplots(3, 1, figsize=(10, 10))\n",
    "axes = axes.flatten()\n",
    "for i,j in zip(df2.month_year.unique(),axes):\n",
    "    df3=pd.melt(df2[df2[\"month_year\"]==i], id_vars=['created_by'], \\\n",
    "                value_vars=[\"Prelim_lead_ratio\",\"final_Prelim_ratio\",\"purchases_final_ratio\"])\n",
    "    sns.barplot(data = df3 , x=\"variable\", hue=\"created_by\",y=\"value\",ax=j)\n",
    "    j.set_title(i)\n",
    "    plt.subplots_adjust(hspace = 0.5)"
   ]
  },
  {
   "cell_type": "markdown",
   "id": "pursuant-kitchen",
   "metadata": {},
   "source": [
    "### SUMMARY 0:\n",
    "Upon Inspection, we can definitely say that even though we have high initial ratios(Prelim_lead_ratio,  final_Prelim_ratio ) for agents, the purchases_final_ratio are very less than that of online.\n",
    "\n",
    "This can be due to following reasons.\n",
    "\n",
    "1. Since the number of leads by agents is very low compared to online, the initial ratios show very high number.\n",
    "For instance agent has leads in single digit number, where as we see a higher number of leads for online users, thus the ratio is more for agents.\n",
    "\n",
    "2. Agents approach customers rather than customers approaching the product, therefore we may high prelim_lead ratio. Users\n",
    "may hesitate in saying no to the agent but gradually when the agent shares the quote with the customers they reject the offer.\n",
    "\n",
    "\n",
    "### Recommendation 0 : \n",
    "Initially when the product is in its initial stages, by reaching to the customers we are introducing our product to them. But as we built the product and there has been a buzz around, It is better to leave for the customers to approach the product at their free will. As we know the digital reach of the product is much faster and effective than through agent, we should work on our market reach approaches and campaigns to bridge the gap between product and customer."
   ]
  },
  {
   "cell_type": "markdown",
   "id": "motivated-brick",
   "metadata": {},
   "source": [
    "### Let us Break the Analysis into Four parts:\n",
    "   1. Agent and h03 product\n",
    "   2. Online and h03 product\n",
    "   3. Agent and h06 product \n",
    "   4. Online and ho6 product\n",
    "\n",
    "For each part of the analysis, we would do two comparisons as shown below "
   ]
  },
  {
   "attachments": {
    "image.png": {
     "image/png": "[encoded data removed]"
    }
   },
   "cell_type": "markdown",
   "id": "mechanical-tampa",
   "metadata": {},
   "source": [
    "![image.png](attachment:image.png)"
   ]
  },
  {
   "cell_type": "markdown",
   "id": "gothic-religious",
   "metadata": {},
   "source": [
    "### PART - 1, Agent and h03 product"
   ]
  },
  {
   "cell_type": "code",
   "execution_count": 7,
   "id": "executed-exhibition",
   "metadata": {
    "scrolled": true
   },
   "outputs": [],
   "source": [
    "df_summary_1 = find_ratios(df[(df.product_==\"ho3\") & (df.created_by==\"Agent\")].\\\n",
    "                           groupby([\"state\",\"month_year\"])\\\n",
    "                           [\"leads\",\"prelim_quotes\",\"final_qotes\",\"purchases\"].\\\n",
    "                  sum().reset_index())"
   ]
  },
  {
   "cell_type": "markdown",
   "id": "accredited-diana",
   "metadata": {},
   "source": [
    "#### Since our point of focus is texas, assuming all other states are equally marketed or reachable to customers, Let us take the point estimate for all the other states. "
   ]
  },
  {
   "cell_type": "code",
   "execution_count": 8,
   "id": "peaceful-valuation",
   "metadata": {},
   "outputs": [
    {
     "data": {
      "text/html": [
       "<div>\n",
       "<style scoped>\n",
       "    .dataframe tbody tr th:only-of-type {\n",
       "        vertical-align: middle;\n",
       "    }\n",
       "\n",
       "    .dataframe tbody tr th {\n",
       "        vertical-align: top;\n",
       "    }\n",
       "\n",
       "    .dataframe thead th {\n",
       "        text-align: right;\n",
       "    }\n",
       "</style>\n",
       "<table border=\"1\" class=\"dataframe\">\n",
       "  <thead>\n",
       "    <tr style=\"text-align: right;\">\n",
       "      <th></th>\n",
       "      <th>leads</th>\n",
       "      <th>prelim_quotes</th>\n",
       "      <th>final_qotes</th>\n",
       "      <th>purchases</th>\n",
       "      <th>Prelim_lead_ratio</th>\n",
       "      <th>final_Prelim_ratio</th>\n",
       "      <th>purchases_prelim_ratio</th>\n",
       "      <th>purchases_final_ratio</th>\n",
       "      <th>purchases_lead_ratio</th>\n",
       "      <th>Data</th>\n",
       "    </tr>\n",
       "    <tr>\n",
       "      <th>month_year</th>\n",
       "      <th></th>\n",
       "      <th></th>\n",
       "      <th></th>\n",
       "      <th></th>\n",
       "      <th></th>\n",
       "      <th></th>\n",
       "      <th></th>\n",
       "      <th></th>\n",
       "      <th></th>\n",
       "      <th></th>\n",
       "    </tr>\n",
       "  </thead>\n",
       "  <tbody>\n",
       "    <tr>\n",
       "      <th>2018-07</th>\n",
       "      <td>3096</td>\n",
       "      <td>2935</td>\n",
       "      <td>2465</td>\n",
       "      <td>418</td>\n",
       "      <td>0.948</td>\n",
       "      <td>0.840</td>\n",
       "      <td>0.142</td>\n",
       "      <td>0.170</td>\n",
       "      <td>0.135</td>\n",
       "      <td>All_states</td>\n",
       "    </tr>\n",
       "    <tr>\n",
       "      <th>2018-08</th>\n",
       "      <td>3873</td>\n",
       "      <td>3672</td>\n",
       "      <td>2679</td>\n",
       "      <td>457</td>\n",
       "      <td>0.948</td>\n",
       "      <td>0.730</td>\n",
       "      <td>0.124</td>\n",
       "      <td>0.171</td>\n",
       "      <td>0.118</td>\n",
       "      <td>All_states</td>\n",
       "    </tr>\n",
       "    <tr>\n",
       "      <th>2018-09</th>\n",
       "      <td>3211</td>\n",
       "      <td>3120</td>\n",
       "      <td>2445</td>\n",
       "      <td>442</td>\n",
       "      <td>0.972</td>\n",
       "      <td>0.784</td>\n",
       "      <td>0.142</td>\n",
       "      <td>0.181</td>\n",
       "      <td>0.138</td>\n",
       "      <td>All_states</td>\n",
       "    </tr>\n",
       "  </tbody>\n",
       "</table>\n",
       "</div>"
      ],
      "text/plain": [
       "            leads  prelim_quotes  final_qotes  purchases  Prelim_lead_ratio  \\\n",
       "month_year                                                                    \n",
       "2018-07      3096           2935         2465        418              0.948   \n",
       "2018-08      3873           3672         2679        457              0.948   \n",
       "2018-09      3211           3120         2445        442              0.972   \n",
       "\n",
       "            final_Prelim_ratio  purchases_prelim_ratio  purchases_final_ratio  \\\n",
       "month_year                                                                      \n",
       "2018-07                  0.840                   0.142                  0.170   \n",
       "2018-08                  0.730                   0.124                  0.171   \n",
       "2018-09                  0.784                   0.142                  0.181   \n",
       "\n",
       "            purchases_lead_ratio        Data  \n",
       "month_year                                    \n",
       "2018-07                    0.135  All_states  \n",
       "2018-08                    0.118  All_states  \n",
       "2018-09                    0.138  All_states  "
      ]
     },
     "execution_count": 8,
     "metadata": {},
     "output_type": "execute_result"
    }
   ],
   "source": [
    "# we are removing tx and wi and thus creating two more dfs\n",
    "# df_summary_12 = Summary of all states except texas ,removing Wi and nv as they dont all three months data\n",
    "\n",
    "df_summary_12 = find_ratios(df_summary_1[(df_summary_1[\"state\"]!=\"tx\") & (df_summary_1[\"state\"]!=\"wi\")\\\n",
    "                                        & (df_summary_1[\"state\"]!=\"nv\")].\\\n",
    "                            groupby([\"month_year\"])\\\n",
    "[[\"leads\",\"prelim_quotes\",\"final_qotes\",\"purchases\"]].sum())\n",
    "\n",
    "df_summary_12[\"Data\"]=\"All_states\"\n",
    "\n",
    "df_summary_12"
   ]
  },
  {
   "cell_type": "code",
   "execution_count": 9,
   "id": "handled-humor",
   "metadata": {},
   "outputs": [
    {
     "data": {
      "text/html": [
       "<div>\n",
       "<style scoped>\n",
       "    .dataframe tbody tr th:only-of-type {\n",
       "        vertical-align: middle;\n",
       "    }\n",
       "\n",
       "    .dataframe tbody tr th {\n",
       "        vertical-align: top;\n",
       "    }\n",
       "\n",
       "    .dataframe thead th {\n",
       "        text-align: right;\n",
       "    }\n",
       "</style>\n",
       "<table border=\"1\" class=\"dataframe\">\n",
       "  <thead>\n",
       "    <tr style=\"text-align: right;\">\n",
       "      <th></th>\n",
       "      <th>leads</th>\n",
       "      <th>prelim_quotes</th>\n",
       "      <th>final_qotes</th>\n",
       "      <th>purchases</th>\n",
       "      <th>Prelim_lead_ratio</th>\n",
       "      <th>final_Prelim_ratio</th>\n",
       "      <th>purchases_prelim_ratio</th>\n",
       "      <th>purchases_final_ratio</th>\n",
       "      <th>purchases_lead_ratio</th>\n",
       "      <th>Data</th>\n",
       "    </tr>\n",
       "    <tr>\n",
       "      <th>month_year</th>\n",
       "      <th></th>\n",
       "      <th></th>\n",
       "      <th></th>\n",
       "      <th></th>\n",
       "      <th></th>\n",
       "      <th></th>\n",
       "      <th></th>\n",
       "      <th></th>\n",
       "      <th></th>\n",
       "      <th></th>\n",
       "    </tr>\n",
       "  </thead>\n",
       "  <tbody>\n",
       "    <tr>\n",
       "      <th>2018-07</th>\n",
       "      <td>1588</td>\n",
       "      <td>1533</td>\n",
       "      <td>1291</td>\n",
       "      <td>193</td>\n",
       "      <td>0.965</td>\n",
       "      <td>0.842</td>\n",
       "      <td>0.126</td>\n",
       "      <td>0.149</td>\n",
       "      <td>0.122</td>\n",
       "      <td>Texas</td>\n",
       "    </tr>\n",
       "    <tr>\n",
       "      <th>2018-08</th>\n",
       "      <td>2002</td>\n",
       "      <td>1943</td>\n",
       "      <td>1588</td>\n",
       "      <td>240</td>\n",
       "      <td>0.971</td>\n",
       "      <td>0.817</td>\n",
       "      <td>0.124</td>\n",
       "      <td>0.151</td>\n",
       "      <td>0.120</td>\n",
       "      <td>Texas</td>\n",
       "    </tr>\n",
       "    <tr>\n",
       "      <th>2018-09</th>\n",
       "      <td>1678</td>\n",
       "      <td>1651</td>\n",
       "      <td>1404</td>\n",
       "      <td>218</td>\n",
       "      <td>0.984</td>\n",
       "      <td>0.850</td>\n",
       "      <td>0.132</td>\n",
       "      <td>0.155</td>\n",
       "      <td>0.130</td>\n",
       "      <td>Texas</td>\n",
       "    </tr>\n",
       "  </tbody>\n",
       "</table>\n",
       "</div>"
      ],
      "text/plain": [
       "            leads  prelim_quotes  final_qotes  purchases  Prelim_lead_ratio  \\\n",
       "month_year                                                                    \n",
       "2018-07      1588           1533         1291        193              0.965   \n",
       "2018-08      2002           1943         1588        240              0.971   \n",
       "2018-09      1678           1651         1404        218              0.984   \n",
       "\n",
       "            final_Prelim_ratio  purchases_prelim_ratio  purchases_final_ratio  \\\n",
       "month_year                                                                      \n",
       "2018-07                  0.842                   0.126                  0.149   \n",
       "2018-08                  0.817                   0.124                  0.151   \n",
       "2018-09                  0.850                   0.132                  0.155   \n",
       "\n",
       "            purchases_lead_ratio   Data  \n",
       "month_year                               \n",
       "2018-07                    0.122  Texas  \n",
       "2018-08                    0.120  Texas  \n",
       "2018-09                    0.130  Texas  "
      ]
     },
     "execution_count": 9,
     "metadata": {},
     "output_type": "execute_result"
    }
   ],
   "source": [
    "# df_summary_13 = Summary of texas state\n",
    "\n",
    "df_summary_13 = find_ratios(df_summary_1[(df_summary_1[\"state\"]==\"tx\")].groupby([\"month_year\"])\\\n",
    "[[\"leads\",\"prelim_quotes\",\"final_qotes\",\"purchases\"]].sum())\n",
    "\n",
    "df_summary_13[\"Data\"]=\"Texas\"\n",
    "\n",
    "df_summary_13"
   ]
  },
  {
   "cell_type": "code",
   "execution_count": 10,
   "id": "environmental-syndication",
   "metadata": {},
   "outputs": [],
   "source": [
    "data_concat = pd.concat([df_summary_13,df_summary_12]).reset_index()"
   ]
  },
  {
   "cell_type": "code",
   "execution_count": 11,
   "id": "bacterial-alexandria",
   "metadata": {},
   "outputs": [],
   "source": [
    "all_states_july_prelim_quotes = df_summary_12.loc[\"2018-07\"][\"prelim_quotes\"]\n",
    "all_states_july_purchases =df_summary_12.loc[\"2018-07\"][\"purchases\"]\n",
    "all_states_july_final =df_summary_12.loc[\"2018-07\"][\"final_qotes\"]\n",
    "\n",
    "all_states_aug_prelim_quotes = df_summary_12.loc[\"2018-08\"][\"prelim_quotes\"]\n",
    "all_states_aug_purchases =df_summary_12.loc[\"2018-08\"][\"purchases\"]\n",
    "all_states_aug_final =df_summary_12.loc[\"2018-08\"][\"final_qotes\"]\n",
    "\n",
    "all_states_sep_prelim_quotes = df_summary_12.loc[\"2018-09\"][\"prelim_quotes\"]\n",
    "all_states_sep_purchases =df_summary_12.loc[\"2018-09\"][\"purchases\"]\n",
    "all_states_sep_final =df_summary_12.loc[\"2018-09\"][\"final_qotes\"]\n",
    "\n",
    "texas_july_prelim_quotes = df_summary_13.loc[\"2018-07\"][\"prelim_quotes\"]\n",
    "texas_july_purchases =df_summary_13.loc[\"2018-07\"][\"purchases\"]\n",
    "texas_july_final =df_summary_13.loc[\"2018-07\"][\"final_qotes\"]\n",
    "\n",
    "texas_aug_prelim_quotes = df_summary_13.loc[\"2018-08\"][\"prelim_quotes\"]\n",
    "texas_aug_purchases =df_summary_13.loc[\"2018-08\"][\"purchases\"]\n",
    "texas_aug_final =df_summary_13.loc[\"2018-08\"][\"final_qotes\"]\n",
    "\n",
    "texas_sept_prelim_quotes = df_summary_13.loc[\"2018-09\"][\"prelim_quotes\"]\n",
    "texas_sept_purchases =df_summary_13.loc[\"2018-09\"][\"purchases\"]\n",
    "texas_sept_final =df_summary_13.loc[\"2018-09\"][\"final_qotes\"]"
   ]
  },
  {
   "cell_type": "code",
   "execution_count": 12,
   "id": "heard-poverty",
   "metadata": {},
   "outputs": [
    {
     "data": {
      "image/png": "[encoded data removed]",
      "text/plain": [
       "<Figure size 1224x432 with 6 Axes>"
      ]
     },
     "metadata": {
      "needs_background": "light"
     },
     "output_type": "display_data"
    }
   ],
   "source": [
    "fig, axes = plt.subplots(2, 3, figsize=(17, 6))\n",
    "axes = axes.flatten()\n",
    "for i,j in zip([\"Prelim_lead_ratio\",\"final_Prelim_ratio\",\"purchases_final_ratio\",\\\n",
    "                \"purchases_prelim_ratio\",\"purchases_lead_ratio\"],axes):\n",
    "\n",
    "    sns.lineplot(data= data_concat ,y=i , x= \"month_year\", hue=\"Data\",ax=j)\n"
   ]
  },
  {
   "cell_type": "markdown",
   "id": "coordinated-cattle",
   "metadata": {},
   "source": [
    "#### By Visual Inspection: \n",
    "   - Nationally(all states except texas) , all the ratios have seen an rise from Aug to September\n",
    "   - In Texas, all the ratios have seen an increase from Aug to September\n",
    "   \n",
    "   \n",
    "Our main business driver is purchases! Since purchases_prelim_ratio directly relates to our goal let us investigate that proportion for each category.Let us dig deeper for some more evidence\n",
    "\n",
    "#### We can assume that the process of leads to purchase as binomial distribution with sucess(purchase) and fail(no purchase). Here all the instances are independant of each other. \n",
    "\n",
    "1. We will first check for any seasonality/relation among the national average. By seasonality, what if,  every september due to the oncoming of winter/hurricanes, customers insure their houses more than other seasons. We should not link this increase in registrations to the new algorithm. \n",
    "2. But to conclude about the above statement we need the data from last year september. As we dont have that data, let us move with our investigation with the available data \n"
   ]
  },
  {
   "cell_type": "markdown",
   "id": "adjacent-musical",
   "metadata": {},
   "source": [
    "### PROCEDURE"
   ]
  },
  {
   "cell_type": "markdown",
   "id": "identical-houston",
   "metadata": {},
   "source": [
    "- ##### check whether both \"all_states\" and \"texas\" come from same distribution for the month of july and august\n",
    "- ##### we have to see if there is an overall negative bias or positive bias in texas\n",
    "- ##### that means, do texans always tend to do less than the country average, more than the country average, at par with country average?\n",
    "- ##### In other words, do texans use the product ho3 similar to other states??\n",
    "\n",
    "For that let us do \"Normal Approximation Method of the Binomial\" \n",
    "The use of the Normal Distribution is supported by the central limit theorem and with sufficiently large n, the Normal Distribution is a good estimate of the Binomial Distribution."
   ]
  },
  {
   "cell_type": "markdown",
   "id": "convertible-contemporary",
   "metadata": {},
   "source": [
    "Below, a ztest test is performed for the goal metric(purchases_prelim_ratio) proportions in \"All_states\" and \"texas\" data.\\\n",
    "H_0 = All proportions are same- texans and other states use the products similarly\\\n",
    "H_1 = proportions are different- texans and other states use the products differently"
   ]
  },
  {
   "cell_type": "code",
   "execution_count": 13,
   "id": "purple-clinton",
   "metadata": {},
   "outputs": [
    {
     "name": "stdout",
     "output_type": "stream",
     "text": [
      "Proportion of success in texas  0.125\n",
      "Proportion of success in all states  0.132\n",
      "0.429\n"
     ]
    }
   ],
   "source": [
    "from statsmodels.stats.proportion import proportions_ztest\n",
    "\n",
    "#the number of successes in nobs trials\n",
    "# here we gave average of july and aug month success(purchase) and trails(prelim_quotes) for \"all_states\" and texas\n",
    "count = np.array([(all_states_july_purchases + all_states_aug_purchases)/2,\\\n",
    "                 (texas_july_purchases + texas_aug_purchases)/2])\n",
    "\n",
    "#the number of trials or observations\n",
    "nobs = np.array([(all_states_july_prelim_quotes + all_states_aug_prelim_quotes)/2,\\\n",
    "                (texas_july_prelim_quotes + texas_aug_prelim_quotes)/2 ])\n",
    "\n",
    "print (\"Proportion of success in texas \" , round(((texas_july_purchases + texas_aug_purchases)/2)\\\n",
    "                                                      /((texas_july_prelim_quotes + texas_aug_prelim_quotes)/2),3))\n",
    "\n",
    "print (\"Proportion of success in all states \" , round(((all_states_july_purchases + all_states_aug_purchases)/2)\\\n",
    "                                                    /((all_states_july_prelim_quotes + all_states_aug_prelim_quotes)/2),3))\n",
    "z_val, p_val = proportions_ztest(count, nobs)\n",
    "print('{0:0.3f}'.format(p_val))"
   ]
  },
  {
   "cell_type": "markdown",
   "id": "checked-story",
   "metadata": {},
   "source": [
    "p_val> alpha- Fail to reject the Null hypothesis.\n",
    "\n",
    "There is no evidence to suggest that texans use this product any differently than other states.\n",
    "\n",
    "Below, a ztest test is performed for the goal metric proportions in \"All_states\" and \"texas\" data.\\\n",
    "Here we are testing for the september month.In september month, Here we have introduced a new pricing algorithm.\n",
    "\n",
    "H_0 = No increase in proportion after introducing new algorithm\\\n",
    "H_1 = Difference in proportion after introducing new algorithm"
   ]
  },
  {
   "cell_type": "code",
   "execution_count": 14,
   "id": "finnish-stewart",
   "metadata": {},
   "outputs": [
    {
     "name": "stdout",
     "output_type": "stream",
     "text": [
      "Proportion of success in texas  0.132\n",
      "Proportion of success in all states  0.142\n",
      "0.140\n"
     ]
    }
   ],
   "source": [
    "from statsmodels.stats.proportion import proportions_ztest\n",
    "\n",
    "#the number of successes in nobs trials\n",
    "# here we gave sep month success(purchase) and trails(prelim_quotes) for \"all_states\" and texas\n",
    "count = np.array([all_states_sep_purchases,texas_sept_purchases])\n",
    "\n",
    "#the number of trials or observations\n",
    "nobs = np.array([all_states_sep_prelim_quotes,texas_sept_prelim_quotes])\n",
    "\n",
    "print (\"Proportion of success in texas \" , round((texas_sept_purchases)/texas_sept_prelim_quotes,3))\n",
    "\n",
    "print (\"Proportion of success in all states \" , round(all_states_sep_purchases/all_states_sep_prelim_quotes,3))\n",
    "z_val, p_val = proportions_ztest(count, nobs,value=0.021,alternative=\"smaller\")\n",
    "print('{0:0.3f}'.format(p_val))"
   ]
  },
  {
   "cell_type": "markdown",
   "id": "faced-comment",
   "metadata": {},
   "source": [
    "p_val> alpha, fail to reject null hypothesis. We dont have enough evidence that the new pricing algorothm is actually making a significant improvement in the purchases. "
   ]
  },
  {
   "cell_type": "markdown",
   "id": "south-tulsa",
   "metadata": {},
   "source": [
    "**What are the reasons that an effect is not detected?**\n",
    "\n",
    "First, it is possible that the effect truly doesn’t exist in the population, which is why our  hypothesis test didn’t detect it in the sample. \\\n",
    "While that is one possibility, it doesn’t end there.\n",
    "Another possibility is that the effect exists in the population, but the test didn’t detect it for a variety of reasons. These reasons include the following:\n",
    "\n",
    "- The sample size was too small to detect the effect.\n",
    "- The variability in the data was too high. The effect exists, but the noise in data swamped the signal (effect).\n",
    "- Since this is a slice of data. When dealing with random samples, chance always plays a role in the results. The draw might have caused our sample not to reflect an effect that exists in the population."
   ]
  },
  {
   "cell_type": "markdown",
   "id": "minute-grant",
   "metadata": {},
   "source": [
    "#### What about the users who have proceeded to final quote after obtaining the prelimary quote?\n",
    "\n",
    "Is there any change in the number of users who have went through the full process of obtaining a quote after preliminary quote? It is given by the metric - final_Prelim_ratio. Since we did not find any evidence that there is a significant change in purchases proportion ,we can analyze this final_Prelim_ratio and know whether the customers are backing off after getting the final quotation. We can follow the same procedure which we have followed for purchases_prelim_ratio.\n",
    "\n",
    "\n",
    "Here the goal metric is final_Prelim_ratio\\\n",
    "H_0 = All proportions are same- texans and other states use the products similarly\\\n",
    "H_1 = proportions are different- texans and other states use the products differently"
   ]
  },
  {
   "cell_type": "code",
   "execution_count": 15,
   "id": "canadian-family",
   "metadata": {},
   "outputs": [
    {
     "name": "stdout",
     "output_type": "stream",
     "text": [
      "Proportion of success in texas  0.828\n",
      "Proportion of success in all states  0.779\n",
      "0.000032\n"
     ]
    }
   ],
   "source": [
    "from statsmodels.stats.proportion import proportions_ztest\n",
    "\n",
    "#the number of successes in nobs trials\n",
    "# here we gave average of july and aug month success(final_quotes) and trails(prelim_quotes) for \"all_states\" and texas\n",
    "count = np.array([(all_states_july_final + all_states_aug_final)/2,\\\n",
    "                 (texas_july_final + texas_aug_final)/2])\n",
    "\n",
    "#the number of trials or observations\n",
    "nobs = np.array([(all_states_july_prelim_quotes + all_states_aug_prelim_quotes)/2,\\\n",
    "                (texas_july_prelim_quotes + texas_aug_prelim_quotes)/2 ])\n",
    "\n",
    "print (\"Proportion of success in texas \" , round(((texas_july_final + texas_aug_final)/2)\\\n",
    "                                                      /((texas_july_prelim_quotes + texas_aug_prelim_quotes)/2),3))\n",
    "\n",
    "print (\"Proportion of success in all states \" , round(((all_states_july_final + all_states_aug_final)/2)\\\n",
    "                                                    /((all_states_july_prelim_quotes + all_states_aug_prelim_quotes)/2),3))\n",
    "z_val, p_val = proportions_ztest(count, nobs)\n",
    "print('{0:0.6f}'.format(p_val))"
   ]
  },
  {
   "cell_type": "markdown",
   "id": "large-visitor",
   "metadata": {},
   "source": [
    "p_val< alpha- Reject the Null hypothesis.\n",
    "\n",
    "We got evidence to say that texans use this product differently than other states. So, texans have a positive bias of 4.9% \n",
    "\n",
    "Below, a ztest test is performed for the goal metric proportions in \"All_states\" and \"texas\" data.\\\n",
    "Here we are testing for the september month.In september month, we have actually introduced a new pricing algorithm.\n",
    "\n",
    "Here the goal metric is final_Prelim_ratio\\\n",
    "H_0 = No change in this bias after introducing new algorithm\\\n",
    "H_1 = Decrease in bias after introducing new algorithm"
   ]
  },
  {
   "cell_type": "code",
   "execution_count": 16,
   "id": "interpreted-montgomery",
   "metadata": {},
   "outputs": [
    {
     "name": "stdout",
     "output_type": "stream",
     "text": [
      "Proportion of success in all states  0.784\n",
      "Proportion of success in texas  0.85\n",
      "0.070\n"
     ]
    }
   ],
   "source": [
    "from statsmodels.stats.proportion import proportions_ztest\n",
    "\n",
    "#the number of successes in nobs trials\n",
    "# here we gave sep month success(final_quotes) and trails(prelim_quotes) for \"all_states\" and texas\n",
    "count = np.array([all_states_sep_final,texas_sept_final])\n",
    "\n",
    "#the number of trials or observations\n",
    "nobs = np.array([all_states_sep_prelim_quotes,texas_sept_prelim_quotes])\n",
    "\n",
    "print (\"Proportion of success in all states \" , round(all_states_sep_final/all_states_sep_prelim_quotes,3))\n",
    "print (\"Proportion of success in texas \" , round((texas_sept_final)/texas_sept_prelim_quotes,3))\n",
    "z_val, p_val = proportions_ztest(count, nobs,value=-0.049,alternative=\"smaller\")\n",
    "print('{0:0.3f}'.format(p_val))"
   ]
  },
  {
   "cell_type": "markdown",
   "id": "imperial-rugby",
   "metadata": {},
   "source": [
    "p_val> alpha- Fail to reject the Null hypothesis\\\n",
    "SO, we got no evidence there has been a increase number of customers from prelims to finals,  no significant increase from prelims to purchases."
   ]
  },
  {
   "cell_type": "markdown",
   "id": "sophisticated-roberts",
   "metadata": {},
   "source": [
    "### Recommendation 1 : \n",
    "1. There are two ways of comparison we can do here, how well the product did with respect to national average or how well the product did with respect to only texas state. TO do the later we should do the analysis with previous years data, which isnt available right now.\n",
    "\n",
    "2. Here when we compared how well the algorithm did with respect to all states and texas. We did not enough evidence of a significant improvement in purchases.\n",
    "\n",
    "3. Based on the above information, I conclude that there has not been significant increases in both the metrics final_Prelim_ratio and purchases_prelim_ratio"
   ]
  },
  {
   "cell_type": "markdown",
   "id": "naval-facial",
   "metadata": {},
   "source": [
    "### PART - 2, Agent and h06 product"
   ]
  },
  {
   "cell_type": "code",
   "execution_count": 17,
   "id": "inner-kuwait",
   "metadata": {
    "scrolled": true
   },
   "outputs": [],
   "source": [
    "df_summary_1 = find_ratios(df[(df.product_==\"ho6\") & (df.created_by==\"Agent\")].groupby([\"state\",\"month_year\"])\\\n",
    "                           [\"leads\",\"prelim_quotes\",\"final_qotes\",\"purchases\"].\\\n",
    "                  sum().reset_index())\n",
    "\n",
    "#df_summary_1"
   ]
  },
  {
   "cell_type": "code",
   "execution_count": 18,
   "id": "indirect-customs",
   "metadata": {},
   "outputs": [
    {
     "data": {
      "text/html": [
       "<div>\n",
       "<style scoped>\n",
       "    .dataframe tbody tr th:only-of-type {\n",
       "        vertical-align: middle;\n",
       "    }\n",
       "\n",
       "    .dataframe tbody tr th {\n",
       "        vertical-align: top;\n",
       "    }\n",
       "\n",
       "    .dataframe thead th {\n",
       "        text-align: right;\n",
       "    }\n",
       "</style>\n",
       "<table border=\"1\" class=\"dataframe\">\n",
       "  <thead>\n",
       "    <tr style=\"text-align: right;\">\n",
       "      <th></th>\n",
       "      <th>leads</th>\n",
       "      <th>prelim_quotes</th>\n",
       "      <th>final_qotes</th>\n",
       "      <th>purchases</th>\n",
       "      <th>Prelim_lead_ratio</th>\n",
       "      <th>final_Prelim_ratio</th>\n",
       "      <th>purchases_prelim_ratio</th>\n",
       "      <th>purchases_final_ratio</th>\n",
       "      <th>purchases_lead_ratio</th>\n",
       "      <th>Data</th>\n",
       "    </tr>\n",
       "    <tr>\n",
       "      <th>month_year</th>\n",
       "      <th></th>\n",
       "      <th></th>\n",
       "      <th></th>\n",
       "      <th></th>\n",
       "      <th></th>\n",
       "      <th></th>\n",
       "      <th></th>\n",
       "      <th></th>\n",
       "      <th></th>\n",
       "      <th></th>\n",
       "    </tr>\n",
       "  </thead>\n",
       "  <tbody>\n",
       "    <tr>\n",
       "      <th>2018-07</th>\n",
       "      <td>413</td>\n",
       "      <td>403</td>\n",
       "      <td>366</td>\n",
       "      <td>54</td>\n",
       "      <td>0.976</td>\n",
       "      <td>0.908</td>\n",
       "      <td>0.134</td>\n",
       "      <td>0.148</td>\n",
       "      <td>0.131</td>\n",
       "      <td>All_states</td>\n",
       "    </tr>\n",
       "    <tr>\n",
       "      <th>2018-08</th>\n",
       "      <td>596</td>\n",
       "      <td>577</td>\n",
       "      <td>423</td>\n",
       "      <td>77</td>\n",
       "      <td>0.968</td>\n",
       "      <td>0.733</td>\n",
       "      <td>0.133</td>\n",
       "      <td>0.182</td>\n",
       "      <td>0.129</td>\n",
       "      <td>All_states</td>\n",
       "    </tr>\n",
       "    <tr>\n",
       "      <th>2018-09</th>\n",
       "      <td>472</td>\n",
       "      <td>461</td>\n",
       "      <td>387</td>\n",
       "      <td>69</td>\n",
       "      <td>0.977</td>\n",
       "      <td>0.839</td>\n",
       "      <td>0.150</td>\n",
       "      <td>0.178</td>\n",
       "      <td>0.146</td>\n",
       "      <td>All_states</td>\n",
       "    </tr>\n",
       "  </tbody>\n",
       "</table>\n",
       "</div>"
      ],
      "text/plain": [
       "            leads  prelim_quotes  final_qotes  purchases  Prelim_lead_ratio  \\\n",
       "month_year                                                                    \n",
       "2018-07       413            403          366         54              0.976   \n",
       "2018-08       596            577          423         77              0.968   \n",
       "2018-09       472            461          387         69              0.977   \n",
       "\n",
       "            final_Prelim_ratio  purchases_prelim_ratio  purchases_final_ratio  \\\n",
       "month_year                                                                      \n",
       "2018-07                  0.908                   0.134                  0.148   \n",
       "2018-08                  0.733                   0.133                  0.182   \n",
       "2018-09                  0.839                   0.150                  0.178   \n",
       "\n",
       "            purchases_lead_ratio        Data  \n",
       "month_year                                    \n",
       "2018-07                    0.131  All_states  \n",
       "2018-08                    0.129  All_states  \n",
       "2018-09                    0.146  All_states  "
      ]
     },
     "execution_count": 18,
     "metadata": {},
     "output_type": "execute_result"
    }
   ],
   "source": [
    "# we are removing tx and wi and thus creating two more dfs\n",
    "# df_summary_12 = Summary of all states except texas ,removing Wi and nv as they dont all three months data\n",
    "\n",
    "df_summary_12 = find_ratios(df_summary_1[(df_summary_1[\"state\"]!=\"tx\") & (df_summary_1[\"state\"]!=\"wi\")\\\n",
    "                                        & (df_summary_1[\"state\"]!=\"nv\")].\\\n",
    "                            groupby([\"month_year\"])\\\n",
    "[[\"leads\",\"prelim_quotes\",\"final_qotes\",\"purchases\"]].sum())\n",
    "\n",
    "df_summary_12[\"Data\"]=\"All_states\"\n",
    "\n",
    "df_summary_12"
   ]
  },
  {
   "cell_type": "code",
   "execution_count": 19,
   "id": "cutting-economy",
   "metadata": {},
   "outputs": [
    {
     "data": {
      "text/html": [
       "<div>\n",
       "<style scoped>\n",
       "    .dataframe tbody tr th:only-of-type {\n",
       "        vertical-align: middle;\n",
       "    }\n",
       "\n",
       "    .dataframe tbody tr th {\n",
       "        vertical-align: top;\n",
       "    }\n",
       "\n",
       "    .dataframe thead th {\n",
       "        text-align: right;\n",
       "    }\n",
       "</style>\n",
       "<table border=\"1\" class=\"dataframe\">\n",
       "  <thead>\n",
       "    <tr style=\"text-align: right;\">\n",
       "      <th></th>\n",
       "      <th>leads</th>\n",
       "      <th>prelim_quotes</th>\n",
       "      <th>final_qotes</th>\n",
       "      <th>purchases</th>\n",
       "      <th>Prelim_lead_ratio</th>\n",
       "      <th>final_Prelim_ratio</th>\n",
       "      <th>purchases_prelim_ratio</th>\n",
       "      <th>purchases_final_ratio</th>\n",
       "      <th>purchases_lead_ratio</th>\n",
       "      <th>Data</th>\n",
       "    </tr>\n",
       "    <tr>\n",
       "      <th>month_year</th>\n",
       "      <th></th>\n",
       "      <th></th>\n",
       "      <th></th>\n",
       "      <th></th>\n",
       "      <th></th>\n",
       "      <th></th>\n",
       "      <th></th>\n",
       "      <th></th>\n",
       "      <th></th>\n",
       "      <th></th>\n",
       "    </tr>\n",
       "  </thead>\n",
       "  <tbody>\n",
       "    <tr>\n",
       "      <th>2018-07</th>\n",
       "      <td>72</td>\n",
       "      <td>71</td>\n",
       "      <td>64</td>\n",
       "      <td>6</td>\n",
       "      <td>0.986</td>\n",
       "      <td>0.901</td>\n",
       "      <td>0.085</td>\n",
       "      <td>0.094</td>\n",
       "      <td>0.083</td>\n",
       "      <td>Texas</td>\n",
       "    </tr>\n",
       "    <tr>\n",
       "      <th>2018-08</th>\n",
       "      <td>96</td>\n",
       "      <td>94</td>\n",
       "      <td>77</td>\n",
       "      <td>14</td>\n",
       "      <td>0.979</td>\n",
       "      <td>0.819</td>\n",
       "      <td>0.149</td>\n",
       "      <td>0.182</td>\n",
       "      <td>0.146</td>\n",
       "      <td>Texas</td>\n",
       "    </tr>\n",
       "    <tr>\n",
       "      <th>2018-09</th>\n",
       "      <td>69</td>\n",
       "      <td>67</td>\n",
       "      <td>54</td>\n",
       "      <td>9</td>\n",
       "      <td>0.971</td>\n",
       "      <td>0.806</td>\n",
       "      <td>0.134</td>\n",
       "      <td>0.167</td>\n",
       "      <td>0.130</td>\n",
       "      <td>Texas</td>\n",
       "    </tr>\n",
       "  </tbody>\n",
       "</table>\n",
       "</div>"
      ],
      "text/plain": [
       "            leads  prelim_quotes  final_qotes  purchases  Prelim_lead_ratio  \\\n",
       "month_year                                                                    \n",
       "2018-07        72             71           64          6              0.986   \n",
       "2018-08        96             94           77         14              0.979   \n",
       "2018-09        69             67           54          9              0.971   \n",
       "\n",
       "            final_Prelim_ratio  purchases_prelim_ratio  purchases_final_ratio  \\\n",
       "month_year                                                                      \n",
       "2018-07                  0.901                   0.085                  0.094   \n",
       "2018-08                  0.819                   0.149                  0.182   \n",
       "2018-09                  0.806                   0.134                  0.167   \n",
       "\n",
       "            purchases_lead_ratio   Data  \n",
       "month_year                               \n",
       "2018-07                    0.083  Texas  \n",
       "2018-08                    0.146  Texas  \n",
       "2018-09                    0.130  Texas  "
      ]
     },
     "execution_count": 19,
     "metadata": {},
     "output_type": "execute_result"
    }
   ],
   "source": [
    "# df_summary_13 = Summary of texas state\n",
    "\n",
    "df_summary_13 = find_ratios(df_summary_1[(df_summary_1[\"state\"]==\"tx\")].groupby([\"month_year\"])\\\n",
    "[[\"leads\",\"prelim_quotes\",\"final_qotes\",\"purchases\"]].sum())\n",
    "\n",
    "df_summary_13[\"Data\"]=\"Texas\"\n",
    "\n",
    "df_summary_13"
   ]
  },
  {
   "cell_type": "code",
   "execution_count": 20,
   "id": "upset-advisory",
   "metadata": {},
   "outputs": [],
   "source": [
    "data_concat = pd.concat([df_summary_13,df_summary_12]).reset_index()"
   ]
  },
  {
   "cell_type": "code",
   "execution_count": 21,
   "id": "mineral-server",
   "metadata": {},
   "outputs": [],
   "source": [
    "all_states_july_prelim_quotes = df_summary_12.loc[\"2018-07\"][\"prelim_quotes\"]\n",
    "all_states_july_purchases =df_summary_12.loc[\"2018-07\"][\"purchases\"]\n",
    "all_states_july_final =df_summary_12.loc[\"2018-07\"][\"final_qotes\"]\n",
    "\n",
    "all_states_aug_prelim_quotes = df_summary_12.loc[\"2018-08\"][\"prelim_quotes\"]\n",
    "all_states_aug_purchases =df_summary_12.loc[\"2018-08\"][\"purchases\"]\n",
    "all_states_aug_final =df_summary_12.loc[\"2018-08\"][\"final_qotes\"]\n",
    "\n",
    "all_states_sep_prelim_quotes = df_summary_12.loc[\"2018-09\"][\"prelim_quotes\"]\n",
    "all_states_sep_purchases =df_summary_12.loc[\"2018-09\"][\"purchases\"]\n",
    "all_states_sep_final =df_summary_12.loc[\"2018-09\"][\"final_qotes\"]\n",
    "\n",
    "texas_july_prelim_quotes = df_summary_13.loc[\"2018-07\"][\"prelim_quotes\"]\n",
    "texas_july_purchases =df_summary_13.loc[\"2018-07\"][\"purchases\"]\n",
    "texas_july_final =df_summary_13.loc[\"2018-07\"][\"final_qotes\"]\n",
    "\n",
    "texas_aug_prelim_quotes = df_summary_13.loc[\"2018-08\"][\"prelim_quotes\"]\n",
    "texas_aug_purchases =df_summary_13.loc[\"2018-08\"][\"purchases\"]\n",
    "texas_aug_final =df_summary_13.loc[\"2018-08\"][\"final_qotes\"]\n",
    "\n",
    "texas_sept_prelim_quotes = df_summary_13.loc[\"2018-09\"][\"prelim_quotes\"]\n",
    "texas_sept_purchases =df_summary_13.loc[\"2018-09\"][\"purchases\"]\n",
    "texas_sept_final =df_summary_13.loc[\"2018-09\"][\"final_qotes\"]"
   ]
  },
  {
   "cell_type": "code",
   "execution_count": 22,
   "id": "growing-causing",
   "metadata": {},
   "outputs": [
    {
     "data": {
      "image/png": "[encoded data removed]",
      "text/plain": [
       "<Figure size 1224x432 with 6 Axes>"
      ]
     },
     "metadata": {
      "needs_background": "light"
     },
     "output_type": "display_data"
    }
   ],
   "source": [
    "fig, axes = plt.subplots(2, 3, figsize=(17, 6))\n",
    "axes = axes.flatten()\n",
    "for i,j in zip([\"Prelim_lead_ratio\",\"final_Prelim_ratio\",\"purchases_final_ratio\",\\\n",
    "                \"purchases_prelim_ratio\",\"purchases_lead_ratio\"],axes):\n",
    "\n",
    "    sns.lineplot(data= data_concat ,y=i , x= \"month_year\", hue=\"Data\",ax=j)\n"
   ]
  },
  {
   "cell_type": "markdown",
   "id": "pediatric-control",
   "metadata": {},
   "source": [
    "#### By Visual Inspection: \n",
    "   - Nationally(all states except texas) , purchases_prelim_ratio have seen an increase from Aug to September \n",
    "   - In Texas, purchases_prelim_ratio have seen an decrease from Aug to September\n",
    "   "
   ]
  },
  {
   "cell_type": "markdown",
   "id": "equal-asset",
   "metadata": {},
   "source": [
    "Here also we follow the same process as in part-1 and check how do the texans compare with respect to all states\n",
    "\n",
    "Below, a ztest test is performed for the goal metric proportions in \"All_states\" and \"texas\" data.\\\n",
    "H_0 = All proportions are same\\\n",
    "H_1 = proportions are different"
   ]
  },
  {
   "cell_type": "code",
   "execution_count": 23,
   "id": "congressional-facility",
   "metadata": {},
   "outputs": [
    {
     "name": "stdout",
     "output_type": "stream",
     "text": [
      "Proportion of success in texas  0.121\n",
      "Proportion of success in all states  0.134\n",
      "0.757\n"
     ]
    }
   ],
   "source": [
    "from statsmodels.stats.proportion import proportions_ztest\n",
    "\n",
    "#the number of successes in nobs trials\n",
    "# here we gave average of july and aug month success(purchase) and trails(prelim_quotes) for \"all_states\" and texas\n",
    "count = np.array([(all_states_july_purchases + all_states_aug_purchases)/2,\\\n",
    "                 (texas_july_purchases + texas_aug_purchases)/2])\n",
    "\n",
    "#the number of trials or observations\n",
    "nobs = np.array([(all_states_july_prelim_quotes + all_states_aug_prelim_quotes)/2,\\\n",
    "                (texas_july_prelim_quotes + texas_aug_prelim_quotes)/2 ])\n",
    "\n",
    "print (\"Proportion of success in texas \" , round(((texas_july_purchases + texas_aug_purchases)/2)\\\n",
    "                                                      /((texas_july_prelim_quotes + texas_aug_prelim_quotes)/2),3))\n",
    "\n",
    "print (\"Proportion of success in all states \" , round(((all_states_july_purchases + all_states_aug_purchases)/2)\\\n",
    "                                                      /((all_states_july_prelim_quotes + all_states_aug_prelim_quotes)/2),3))\n",
    "z_val, p_val = proportions_ztest(count, nobs,alternative= \"two-sided\")\n",
    "print('{0:0.3f}'.format(p_val))"
   ]
  },
  {
   "cell_type": "markdown",
   "id": "adolescent-better",
   "metadata": {},
   "source": [
    "p_val> alpha- Fail to reject the Null hypothesis.\n",
    "\n",
    "We did not evidence to say that texans use this product any differently than other states.\n",
    "\n",
    "Below, a ztest test is performed for the goal metric proportions in \"All_states\" and \"texas\" data.\\\n",
    "Here we are testing for the september month.\n",
    "\n",
    "H_0 = No increase in proportion after introducing new algorithm\\\n",
    "H_1 = Difference in proportion after introducing new algorithm"
   ]
  },
  {
   "cell_type": "code",
   "execution_count": 24,
   "id": "simplified-fifteen",
   "metadata": {},
   "outputs": [
    {
     "name": "stdout",
     "output_type": "stream",
     "text": [
      "Proportion of success in all states  0.15\n",
      "Proportion of success in texas  0.134\n",
      "0.630\n"
     ]
    }
   ],
   "source": [
    "from statsmodels.stats.proportion import proportions_ztest\n",
    "\n",
    "#the number of successes in nobs trials\n",
    "# here we gave sep month success(purchase) and trails(prelim_quotes) for \"all_states\" and texas\n",
    "count = np.array([all_states_sep_purchases,texas_sept_purchases])\n",
    "\n",
    "#the number of trials or observations\n",
    "nobs = np.array([all_states_sep_prelim_quotes,texas_sept_prelim_quotes])\n",
    "\n",
    "print (\"Proportion of success in all states \" , round(all_states_sep_purchases/all_states_sep_prelim_quotes,3))\n",
    "print (\"Proportion of success in texas \" , round((texas_sept_purchases+0)/texas_sept_prelim_quotes,3))\n",
    "z_val, p_val = proportions_ztest(count, nobs,value=0.00,alternative=\"smaller\")\n",
    "print('{0:0.3f}'.format(p_val))"
   ]
  },
  {
   "cell_type": "markdown",
   "id": "protected-berlin",
   "metadata": {},
   "source": [
    "p_val> alpha, fail to reject null hypothesis. We dont have enough evidence that the new pricing algorothm is actually making a significant improvement in the purchases. "
   ]
  },
  {
   "cell_type": "markdown",
   "id": "superior-violation",
   "metadata": {},
   "source": [
    "#### What about the users who have proceeded to final quote after obtaining the prelimary quote?\n",
    "\n",
    "Is there any change in the number of users who have went through the full process of obtaining a quote after preliminary quote? It is given by the metric - final_Prelim_ratio. Since we did not find any evidence that there is a significant change in purchases proportion ,we can analyze this final_Prelim_ratio and know whether the customers are backing off after getting the final quotation. We can follow the same procedure which we have followed for purchases_prelim_ratio.\n",
    "\n",
    "\n",
    "Here the goal metric is final_Prelim_ratio\\\n",
    "H_0 = All proportions are same- texans and other states use the products similarly\\\n",
    "H_1 = proportions are different- texans and other states use the products differently"
   ]
  },
  {
   "cell_type": "code",
   "execution_count": 25,
   "id": "floppy-carpet",
   "metadata": {},
   "outputs": [
    {
     "name": "stdout",
     "output_type": "stream",
     "text": [
      "Proportion of success in texas  0.855\n",
      "Proportion of success in all states  0.805\n",
      "0.287385\n"
     ]
    }
   ],
   "source": [
    "from statsmodels.stats.proportion import proportions_ztest\n",
    "\n",
    "#the number of successes in nobs trials\n",
    "# here we gave average of july and aug month success(final_quotes) and trails(prelim_quotes) for \"all_states\" and texas\n",
    "count = np.array([(all_states_july_final + all_states_aug_final)/2,\\\n",
    "                 (texas_july_final + texas_aug_final)/2])\n",
    "\n",
    "#the number of trials or observations\n",
    "nobs = np.array([(all_states_july_prelim_quotes + all_states_aug_prelim_quotes)/2,\\\n",
    "                (texas_july_prelim_quotes + texas_aug_prelim_quotes)/2 ])\n",
    "\n",
    "print (\"Proportion of success in texas \" , round(((texas_july_final + texas_aug_final)/2)\\\n",
    "                                                      /((texas_july_prelim_quotes + texas_aug_prelim_quotes)/2),3))\n",
    "\n",
    "print (\"Proportion of success in all states \" , round(((all_states_july_final + all_states_aug_final)/2)\\\n",
    "                                                    /((all_states_july_prelim_quotes + all_states_aug_prelim_quotes)/2),3))\n",
    "z_val, p_val = proportions_ztest(count, nobs)\n",
    "print('{0:0.6f}'.format(p_val))"
   ]
  },
  {
   "cell_type": "markdown",
   "id": "abroad-alias",
   "metadata": {},
   "source": [
    "p_val> alpha- Fail to reject the Null hypothesis.\n",
    "\n",
    "We did not get evidence to say that texans use this product any differently than other states. \n",
    "\n",
    "Below, a ztest test is performed for the goal metric proportions in \"All_states\" and \"texas\" data.\\\n",
    "Here we are testing for the september month.In september month, we have actually introduced a new pricing algorithm.\n",
    "\n",
    "Here the goal metric is final_Prelim_ratio\\\n",
    "H_0 = No increase in proportion after introducing new algorithm\\\n",
    "H_1 = Difference in proportion after introducing new algorithm"
   ]
  },
  {
   "cell_type": "code",
   "execution_count": 26,
   "id": "contemporary-effect",
   "metadata": {},
   "outputs": [
    {
     "name": "stdout",
     "output_type": "stream",
     "text": [
      "Proportion of success in all states  0.839\n",
      "Proportion of success in texas  0.806\n",
      "0.755\n"
     ]
    }
   ],
   "source": [
    "from statsmodels.stats.proportion import proportions_ztest\n",
    "\n",
    "#the number of successes in nobs trials\n",
    "# here we gave sep month success(final_quotes) and trails(prelim_quotes) for \"all_states\" and texas\n",
    "count = np.array([all_states_sep_final,texas_sept_final])\n",
    "\n",
    "#the number of trials or observations\n",
    "nobs = np.array([all_states_sep_prelim_quotes,texas_sept_prelim_quotes])\n",
    "\n",
    "print (\"Proportion of success in all states \" , round(all_states_sep_final/all_states_sep_prelim_quotes,3))\n",
    "print (\"Proportion of success in texas \" , round((texas_sept_final)/texas_sept_prelim_quotes,3))\n",
    "z_val, p_val = proportions_ztest(count, nobs,value=0.0,alternative=\"smaller\")\n",
    "print('{0:0.3f}'.format(p_val))"
   ]
  },
  {
   "cell_type": "markdown",
   "id": "weighted-blocking",
   "metadata": {},
   "source": [
    "p_val> alpha- Fail to reject the Null hypothesis\\\n",
    "SO, we did not get evidence there has been a increase number of customers from final to prelims.\n"
   ]
  },
  {
   "cell_type": "markdown",
   "id": "textile-cologne",
   "metadata": {},
   "source": [
    "### Recommendation 2 : \n",
    "1. There are two ways of comparison we can do here, how well the product did with respect to national average or how well the product did with respect to only texas state. TO do the later we should do the analysis with previous years data, which isnt available right now.\n",
    "\n",
    "2. Here when we compared how well the algorithm did with respect to all states and texas. We did not enough evidence of a significant improvement in both the metrics. The reasons are stated already."
   ]
  },
  {
   "cell_type": "markdown",
   "id": "british-philip",
   "metadata": {},
   "source": [
    "### PART - 3, Online and h06 product"
   ]
  },
  {
   "cell_type": "code",
   "execution_count": 27,
   "id": "soviet-great",
   "metadata": {
    "scrolled": true
   },
   "outputs": [],
   "source": [
    "df_summary_1 = find_ratios(df[(df.product_==\"ho6\") & (df.created_by==\"Online\")].groupby([\"state\",\"month_year\"])\\\n",
    "                           [\"leads\",\"prelim_quotes\",\"final_qotes\",\"purchases\"].\\\n",
    "                  sum().reset_index())\n",
    "\n",
    "#df_summary_1"
   ]
  },
  {
   "cell_type": "code",
   "execution_count": 28,
   "id": "conscious-donor",
   "metadata": {},
   "outputs": [
    {
     "data": {
      "text/html": [
       "<div>\n",
       "<style scoped>\n",
       "    .dataframe tbody tr th:only-of-type {\n",
       "        vertical-align: middle;\n",
       "    }\n",
       "\n",
       "    .dataframe tbody tr th {\n",
       "        vertical-align: top;\n",
       "    }\n",
       "\n",
       "    .dataframe thead th {\n",
       "        text-align: right;\n",
       "    }\n",
       "</style>\n",
       "<table border=\"1\" class=\"dataframe\">\n",
       "  <thead>\n",
       "    <tr style=\"text-align: right;\">\n",
       "      <th></th>\n",
       "      <th>leads</th>\n",
       "      <th>prelim_quotes</th>\n",
       "      <th>final_qotes</th>\n",
       "      <th>purchases</th>\n",
       "      <th>Prelim_lead_ratio</th>\n",
       "      <th>final_Prelim_ratio</th>\n",
       "      <th>purchases_prelim_ratio</th>\n",
       "      <th>purchases_final_ratio</th>\n",
       "      <th>purchases_lead_ratio</th>\n",
       "      <th>Data</th>\n",
       "    </tr>\n",
       "    <tr>\n",
       "      <th>month_year</th>\n",
       "      <th></th>\n",
       "      <th></th>\n",
       "      <th></th>\n",
       "      <th></th>\n",
       "      <th></th>\n",
       "      <th></th>\n",
       "      <th></th>\n",
       "      <th></th>\n",
       "      <th></th>\n",
       "      <th></th>\n",
       "    </tr>\n",
       "  </thead>\n",
       "  <tbody>\n",
       "    <tr>\n",
       "      <th>2018-07</th>\n",
       "      <td>1393</td>\n",
       "      <td>826</td>\n",
       "      <td>306</td>\n",
       "      <td>129</td>\n",
       "      <td>0.593</td>\n",
       "      <td>0.370</td>\n",
       "      <td>0.156</td>\n",
       "      <td>0.422</td>\n",
       "      <td>0.093</td>\n",
       "      <td>All_states</td>\n",
       "    </tr>\n",
       "    <tr>\n",
       "      <th>2018-08</th>\n",
       "      <td>1717</td>\n",
       "      <td>900</td>\n",
       "      <td>285</td>\n",
       "      <td>127</td>\n",
       "      <td>0.524</td>\n",
       "      <td>0.317</td>\n",
       "      <td>0.141</td>\n",
       "      <td>0.446</td>\n",
       "      <td>0.074</td>\n",
       "      <td>All_states</td>\n",
       "    </tr>\n",
       "    <tr>\n",
       "      <th>2018-09</th>\n",
       "      <td>1275</td>\n",
       "      <td>768</td>\n",
       "      <td>260</td>\n",
       "      <td>134</td>\n",
       "      <td>0.602</td>\n",
       "      <td>0.339</td>\n",
       "      <td>0.174</td>\n",
       "      <td>0.515</td>\n",
       "      <td>0.105</td>\n",
       "      <td>All_states</td>\n",
       "    </tr>\n",
       "  </tbody>\n",
       "</table>\n",
       "</div>"
      ],
      "text/plain": [
       "            leads  prelim_quotes  final_qotes  purchases  Prelim_lead_ratio  \\\n",
       "month_year                                                                    \n",
       "2018-07      1393            826          306        129              0.593   \n",
       "2018-08      1717            900          285        127              0.524   \n",
       "2018-09      1275            768          260        134              0.602   \n",
       "\n",
       "            final_Prelim_ratio  purchases_prelim_ratio  purchases_final_ratio  \\\n",
       "month_year                                                                      \n",
       "2018-07                  0.370                   0.156                  0.422   \n",
       "2018-08                  0.317                   0.141                  0.446   \n",
       "2018-09                  0.339                   0.174                  0.515   \n",
       "\n",
       "            purchases_lead_ratio        Data  \n",
       "month_year                                    \n",
       "2018-07                    0.093  All_states  \n",
       "2018-08                    0.074  All_states  \n",
       "2018-09                    0.105  All_states  "
      ]
     },
     "execution_count": 28,
     "metadata": {},
     "output_type": "execute_result"
    }
   ],
   "source": [
    "# we are removing tx and wi and thus creating two more dfs\n",
    "# df_summary_12 = Summary of all states except texas ,removing Wi and nv as they dont all three months data\n",
    "\n",
    "df_summary_12 = find_ratios(df_summary_1[(df_summary_1[\"state\"]!=\"tx\") & (df_summary_1[\"state\"]!=\"wi\")\\\n",
    "                                        & (df_summary_1[\"state\"]!=\"nv\")].\\\n",
    "                            groupby([\"month_year\"])\\\n",
    "[[\"leads\",\"prelim_quotes\",\"final_qotes\",\"purchases\"]].sum())\n",
    "\n",
    "df_summary_12[\"Data\"]=\"All_states\"\n",
    "\n",
    "df_summary_12"
   ]
  },
  {
   "cell_type": "code",
   "execution_count": 29,
   "id": "coordinated-english",
   "metadata": {},
   "outputs": [
    {
     "data": {
      "text/html": [
       "<div>\n",
       "<style scoped>\n",
       "    .dataframe tbody tr th:only-of-type {\n",
       "        vertical-align: middle;\n",
       "    }\n",
       "\n",
       "    .dataframe tbody tr th {\n",
       "        vertical-align: top;\n",
       "    }\n",
       "\n",
       "    .dataframe thead th {\n",
       "        text-align: right;\n",
       "    }\n",
       "</style>\n",
       "<table border=\"1\" class=\"dataframe\">\n",
       "  <thead>\n",
       "    <tr style=\"text-align: right;\">\n",
       "      <th></th>\n",
       "      <th>leads</th>\n",
       "      <th>prelim_quotes</th>\n",
       "      <th>final_qotes</th>\n",
       "      <th>purchases</th>\n",
       "      <th>Prelim_lead_ratio</th>\n",
       "      <th>final_Prelim_ratio</th>\n",
       "      <th>purchases_prelim_ratio</th>\n",
       "      <th>purchases_final_ratio</th>\n",
       "      <th>purchases_lead_ratio</th>\n",
       "      <th>Data</th>\n",
       "    </tr>\n",
       "    <tr>\n",
       "      <th>month_year</th>\n",
       "      <th></th>\n",
       "      <th></th>\n",
       "      <th></th>\n",
       "      <th></th>\n",
       "      <th></th>\n",
       "      <th></th>\n",
       "      <th></th>\n",
       "      <th></th>\n",
       "      <th></th>\n",
       "      <th></th>\n",
       "    </tr>\n",
       "  </thead>\n",
       "  <tbody>\n",
       "    <tr>\n",
       "      <th>2018-07</th>\n",
       "      <td>650</td>\n",
       "      <td>267</td>\n",
       "      <td>55</td>\n",
       "      <td>19</td>\n",
       "      <td>0.411</td>\n",
       "      <td>0.206</td>\n",
       "      <td>0.071</td>\n",
       "      <td>0.345</td>\n",
       "      <td>0.029</td>\n",
       "      <td>Texas</td>\n",
       "    </tr>\n",
       "    <tr>\n",
       "      <th>2018-08</th>\n",
       "      <td>591</td>\n",
       "      <td>217</td>\n",
       "      <td>40</td>\n",
       "      <td>10</td>\n",
       "      <td>0.367</td>\n",
       "      <td>0.184</td>\n",
       "      <td>0.046</td>\n",
       "      <td>0.250</td>\n",
       "      <td>0.017</td>\n",
       "      <td>Texas</td>\n",
       "    </tr>\n",
       "    <tr>\n",
       "      <th>2018-09</th>\n",
       "      <td>810</td>\n",
       "      <td>336</td>\n",
       "      <td>50</td>\n",
       "      <td>23</td>\n",
       "      <td>0.415</td>\n",
       "      <td>0.149</td>\n",
       "      <td>0.068</td>\n",
       "      <td>0.460</td>\n",
       "      <td>0.028</td>\n",
       "      <td>Texas</td>\n",
       "    </tr>\n",
       "  </tbody>\n",
       "</table>\n",
       "</div>"
      ],
      "text/plain": [
       "            leads  prelim_quotes  final_qotes  purchases  Prelim_lead_ratio  \\\n",
       "month_year                                                                    \n",
       "2018-07       650            267           55         19              0.411   \n",
       "2018-08       591            217           40         10              0.367   \n",
       "2018-09       810            336           50         23              0.415   \n",
       "\n",
       "            final_Prelim_ratio  purchases_prelim_ratio  purchases_final_ratio  \\\n",
       "month_year                                                                      \n",
       "2018-07                  0.206                   0.071                  0.345   \n",
       "2018-08                  0.184                   0.046                  0.250   \n",
       "2018-09                  0.149                   0.068                  0.460   \n",
       "\n",
       "            purchases_lead_ratio   Data  \n",
       "month_year                               \n",
       "2018-07                    0.029  Texas  \n",
       "2018-08                    0.017  Texas  \n",
       "2018-09                    0.028  Texas  "
      ]
     },
     "execution_count": 29,
     "metadata": {},
     "output_type": "execute_result"
    }
   ],
   "source": [
    "# df_summary_13 = Summary of texas state\n",
    "\n",
    "df_summary_13 = find_ratios(df_summary_1[(df_summary_1[\"state\"]==\"tx\")].groupby([\"month_year\"])\\\n",
    "[[\"leads\",\"prelim_quotes\",\"final_qotes\",\"purchases\"]].sum())\n",
    "\n",
    "df_summary_13[\"Data\"]=\"Texas\"\n",
    "\n",
    "df_summary_13"
   ]
  },
  {
   "cell_type": "code",
   "execution_count": 30,
   "id": "polished-methodology",
   "metadata": {},
   "outputs": [],
   "source": [
    "data_concat = pd.concat([df_summary_13,df_summary_12]).reset_index()"
   ]
  },
  {
   "cell_type": "code",
   "execution_count": 31,
   "id": "competitive-confidentiality",
   "metadata": {},
   "outputs": [],
   "source": [
    "all_states_july_prelim_quotes = df_summary_12.loc[\"2018-07\"][\"prelim_quotes\"]\n",
    "all_states_july_purchases =df_summary_12.loc[\"2018-07\"][\"purchases\"]\n",
    "all_states_july_final =df_summary_12.loc[\"2018-07\"][\"final_qotes\"]\n",
    "\n",
    "all_states_aug_prelim_quotes = df_summary_12.loc[\"2018-08\"][\"prelim_quotes\"]\n",
    "all_states_aug_purchases =df_summary_12.loc[\"2018-08\"][\"purchases\"]\n",
    "all_states_aug_final =df_summary_12.loc[\"2018-08\"][\"final_qotes\"]\n",
    "\n",
    "all_states_sep_prelim_quotes = df_summary_12.loc[\"2018-09\"][\"prelim_quotes\"]\n",
    "all_states_sep_purchases =df_summary_12.loc[\"2018-09\"][\"purchases\"]\n",
    "all_states_sep_final =df_summary_12.loc[\"2018-09\"][\"final_qotes\"]\n",
    "\n",
    "texas_july_prelim_quotes = df_summary_13.loc[\"2018-07\"][\"prelim_quotes\"]\n",
    "texas_july_purchases =df_summary_13.loc[\"2018-07\"][\"purchases\"]\n",
    "texas_july_final =df_summary_13.loc[\"2018-07\"][\"final_qotes\"]\n",
    "\n",
    "texas_aug_prelim_quotes = df_summary_13.loc[\"2018-08\"][\"prelim_quotes\"]\n",
    "texas_aug_purchases =df_summary_13.loc[\"2018-08\"][\"purchases\"]\n",
    "texas_aug_final =df_summary_13.loc[\"2018-08\"][\"final_qotes\"]\n",
    "\n",
    "texas_sept_prelim_quotes = df_summary_13.loc[\"2018-09\"][\"prelim_quotes\"]\n",
    "texas_sept_purchases =df_summary_13.loc[\"2018-09\"][\"purchases\"]\n",
    "texas_sept_final =df_summary_13.loc[\"2018-09\"][\"final_qotes\"]"
   ]
  },
  {
   "cell_type": "code",
   "execution_count": 32,
   "id": "higher-security",
   "metadata": {},
   "outputs": [
    {
     "data": {
      "image/png": "[encoded data removed]",
      "text/plain": [
       "<Figure size 1224x432 with 6 Axes>"
      ]
     },
     "metadata": {
      "needs_background": "light"
     },
     "output_type": "display_data"
    }
   ],
   "source": [
    "fig, axes = plt.subplots(2, 3, figsize=(17, 6))\n",
    "axes = axes.flatten()\n",
    "for i,j in zip([\"Prelim_lead_ratio\",\"final_Prelim_ratio\",\"purchases_final_ratio\",\\\n",
    "                \"purchases_prelim_ratio\",\"purchases_lead_ratio\"],axes):\n",
    "\n",
    "    sns.lineplot(data= data_concat ,y=i , x= \"month_year\", hue=\"Data\",ax=j)\n"
   ]
  },
  {
   "cell_type": "markdown",
   "id": "extra-county",
   "metadata": {},
   "source": [
    "#### By Visual Inspection: \n",
    "   - Nationally(all states except texas) , purchases_prelim_ratio have seen an increase from Aug to September \n",
    "   - In Texas, purchases_prelim_ratio have seen an increase from Aug to September\n",
    "   \n",
    "   \n",
    "Our main business driver is purchases! Since purchases_prelim_ratio directly relates to our goal let us investigate that proportion for each category.Let us dig deeper for some more evidence\n",
    "\n",
    "Here also we follow the same process as in part-1 and check how do the texans compare with respect to all states\n",
    "\n",
    "Below, a ztest test is performed for the goal metric proportions in \"All_states\" and \"texas\" data.\\\n",
    "H_0 = All proportions are same\\\n",
    "H_1 = proportions are different"
   ]
  },
  {
   "cell_type": "code",
   "execution_count": 33,
   "id": "spiritual-islam",
   "metadata": {},
   "outputs": [
    {
     "name": "stdout",
     "output_type": "stream",
     "text": [
      "Proportion of success in texas  0.06\n",
      "Proportion of success in all states  0.148\n",
      "0.000\n"
     ]
    }
   ],
   "source": [
    "from statsmodels.stats.proportion import proportions_ztest\n",
    "\n",
    "#the number of successes in nobs trials\n",
    "# here we gave average of july and aug month success(purchase) and trails(prelim_quotes) for \"all_states\" and texas\n",
    "count = np.array([(all_states_july_purchases + all_states_aug_purchases)/2,\\\n",
    "                 (texas_july_purchases + texas_aug_purchases)/2])\n",
    "\n",
    "#the number of trials or observations\n",
    "nobs = np.array([(all_states_july_prelim_quotes + all_states_aug_prelim_quotes)/2,\\\n",
    "                (texas_july_prelim_quotes + texas_aug_prelim_quotes)/2 ])\n",
    "\n",
    "print (\"Proportion of success in texas \" , round(((texas_july_purchases + texas_aug_purchases)/2)\\\n",
    "                                                      /((texas_july_prelim_quotes + texas_aug_prelim_quotes)/2),3))\n",
    "\n",
    "print (\"Proportion of success in all states \" , round(((all_states_july_purchases + all_states_aug_purchases)/2)\\\n",
    "                                                      /((all_states_july_prelim_quotes + all_states_aug_prelim_quotes)/2),3))\n",
    "z_val, p_val = proportions_ztest(count, nobs,alternative= \"two-sided\")\n",
    "print('{0:0.3f}'.format(p_val))"
   ]
  },
  {
   "cell_type": "markdown",
   "id": "growing-tract",
   "metadata": {},
   "source": [
    "p_val< alpha- Reject the Null hypothesis.\n",
    "\n",
    "We have evidence to say that texans use this product differently than other states. On average texans use this product (0.148-0.06)% = 8.8% less than the national average.\n",
    "We can say that texans have negative bias of 8.8%. After introducing this new algorithm let us check whether there is any difference in this bias.\n",
    "\n",
    "Below, a ztest test is performed for the goal metric proportions in \"All_states\" and \"texas\" data.\\\n",
    "Here we are testing for the september month.\n",
    "\n",
    "H_0 = No change in 8.8% bias after introducing new algorithm\\\n",
    "H_1 = Difference in this proportion after introducing new algorithm"
   ]
  },
  {
   "cell_type": "code",
   "execution_count": 34,
   "id": "consolidated-mobility",
   "metadata": {},
   "outputs": [
    {
     "name": "stdout",
     "output_type": "stream",
     "text": [
      "Proportion of success in all states  0.174\n",
      "Proportion of success in texas  0.068\n",
      "0.785\n"
     ]
    }
   ],
   "source": [
    "from statsmodels.stats.proportion import proportions_ztest\n",
    "\n",
    "#the number of successes in nobs trials\n",
    "# here we gave sep month success(purchase) and trails(prelim_quotes) for \"all_states\" and texas\n",
    "count = np.array([all_states_sep_purchases,texas_sept_purchases])\n",
    "\n",
    "#the number of trials or observations\n",
    "nobs = np.array([all_states_sep_prelim_quotes,texas_sept_prelim_quotes])\n",
    "\n",
    "print (\"Proportion of success in all states \" , round(all_states_sep_purchases/all_states_sep_prelim_quotes,3))\n",
    "print (\"Proportion of success in texas \" , round((texas_sept_purchases+0)/texas_sept_prelim_quotes,3))\n",
    "z_val, p_val = proportions_ztest(count, nobs,value=0.088,alternative=\"smaller\")\n",
    "print('{0:0.3f}'.format(p_val))"
   ]
  },
  {
   "cell_type": "markdown",
   "id": "organic-perfume",
   "metadata": {},
   "source": [
    "p_val> alpha, fail to reject null hypothesis. We dont have enough evidence that the new pricing algorothm is actually making a significant improvement in the purchases. "
   ]
  },
  {
   "cell_type": "markdown",
   "id": "registered-client",
   "metadata": {},
   "source": [
    "#### What about the users who have proceeded to final quote after obtaining the prelimary quote?\n",
    "\n",
    "Is there any change in the number of users who have went through the full process of obtaining a quote after preliminary quote? It is given by the metric - final_Prelim_ratio. Since we did not find any evidence that there is a significant change in purchases proportion ,we can analyze this final_Prelim_ratio and know whether the customers are backing off after getting the final quotation. We can follow the same procedure which we have followed for purchases_prelim_ratio.\n",
    "\n",
    "\n",
    "Here the goal metric is final_Prelim_ratio\\\n",
    "H_0 = All proportions are same- texans and other states use the products similarly\\\n",
    "H_1 = proportions are different- texans and other states use the products differently"
   ]
  },
  {
   "cell_type": "code",
   "execution_count": 35,
   "id": "imposed-yellow",
   "metadata": {},
   "outputs": [
    {
     "name": "stdout",
     "output_type": "stream",
     "text": [
      "Proportion of success in texas  0.196\n",
      "Proportion of success in all states  0.342\n",
      "0.000014\n"
     ]
    }
   ],
   "source": [
    "from statsmodels.stats.proportion import proportions_ztest\n",
    "\n",
    "#the number of successes in nobs trials\n",
    "# here we gave average of july and aug month success(final_quotes) and trails(prelim_quotes) for \"all_states\" and texas\n",
    "count = np.array([(all_states_july_final + all_states_aug_final)/2,\\\n",
    "                 (texas_july_final + texas_aug_final)/2])\n",
    "\n",
    "#the number of trials or observations\n",
    "nobs = np.array([(all_states_july_prelim_quotes + all_states_aug_prelim_quotes)/2,\\\n",
    "                (texas_july_prelim_quotes + texas_aug_prelim_quotes)/2 ])\n",
    "\n",
    "print (\"Proportion of success in texas \" , round(((texas_july_final + texas_aug_final)/2)\\\n",
    "                                                      /((texas_july_prelim_quotes + texas_aug_prelim_quotes)/2),3))\n",
    "\n",
    "print (\"Proportion of success in all states \" , round(((all_states_july_final + all_states_aug_final)/2)\\\n",
    "                                                    /((all_states_july_prelim_quotes + all_states_aug_prelim_quotes)/2),3))\n",
    "z_val, p_val = proportions_ztest(count, nobs)\n",
    "print('{0:0.6f}'.format(p_val))"
   ]
  },
  {
   "cell_type": "markdown",
   "id": "quality-canadian",
   "metadata": {},
   "source": [
    "p_val< alpha- Reject the Null hypothesis.\n",
    "\n",
    "We have evidence to say that texans use this product differently than other states. On average texans use this product (0.342-0.196)% = 14.6% less than the national average.\n",
    "We can say that texans have negative bias of 14.6%. After introducing this new algorithm let us check whether there is any difference in this bias.\n",
    "\n",
    "Below, a ztest test is performed for the goal metric proportions in \"All_states\" and \"texas\" data.\\\n",
    "Here we are testing for the september month.\n",
    "\n",
    "H_0 = No change in 14.6% bias after introducing new algorithm\\\n",
    "H_1 = Difference in this proportion after introducing new algorithm"
   ]
  },
  {
   "cell_type": "code",
   "execution_count": 36,
   "id": "german-absorption",
   "metadata": {},
   "outputs": [
    {
     "name": "stdout",
     "output_type": "stream",
     "text": [
      "Proportion of success in all states  0.339\n",
      "Proportion of success in texas  0.149\n",
      "0.932\n"
     ]
    }
   ],
   "source": [
    "from statsmodels.stats.proportion import proportions_ztest\n",
    "\n",
    "#the number of successes in nobs trials\n",
    "# here we gave sep month success(final_quotes) and trails(prelim_quotes) for \"all_states\" and texas\n",
    "count = np.array([all_states_sep_final,texas_sept_final])\n",
    "\n",
    "#the number of trials or observations\n",
    "nobs = np.array([all_states_sep_prelim_quotes,texas_sept_prelim_quotes])\n",
    "\n",
    "print (\"Proportion of success in all states \" , round(all_states_sep_final/all_states_sep_prelim_quotes,3))\n",
    "print (\"Proportion of success in texas \" , round((texas_sept_final)/texas_sept_prelim_quotes,3))\n",
    "z_val, p_val = proportions_ztest(count, nobs,value=0.146,alternative=\"smaller\")\n",
    "print('{0:0.3f}'.format(p_val))"
   ]
  },
  {
   "cell_type": "markdown",
   "id": "permanent-valve",
   "metadata": {},
   "source": [
    "### Recommendation 3 : \n",
    "1. There are two ways of comparison we can do here, how well the product did with respect to national average or how well the product did with respect to only texas state. TO do the later we should do the analysis with previous years data, which isnt available right now.\n",
    "\n",
    "2. Here when we compared how well the algorithm did with respect to all states and texas. We did not enough evidence of a significant improvement. The reasons are stated above."
   ]
  },
  {
   "cell_type": "markdown",
   "id": "federal-facility",
   "metadata": {},
   "source": [
    "### PART - 4, Online and h03 product"
   ]
  },
  {
   "cell_type": "code",
   "execution_count": 37,
   "id": "played-flavor",
   "metadata": {
    "scrolled": true
   },
   "outputs": [],
   "source": [
    "df_summary_1 = find_ratios(df[(df.product_==\"ho3\") & (df.created_by==\"Online\")].groupby([\"state\",\"month_year\"])\\\n",
    "                           [\"leads\",\"prelim_quotes\",\"final_qotes\",\"purchases\"].\\\n",
    "                  sum().reset_index())\n",
    "\n",
    "#df_summary_1"
   ]
  },
  {
   "cell_type": "code",
   "execution_count": 38,
   "id": "medical-section",
   "metadata": {},
   "outputs": [
    {
     "data": {
      "text/html": [
       "<div>\n",
       "<style scoped>\n",
       "    .dataframe tbody tr th:only-of-type {\n",
       "        vertical-align: middle;\n",
       "    }\n",
       "\n",
       "    .dataframe tbody tr th {\n",
       "        vertical-align: top;\n",
       "    }\n",
       "\n",
       "    .dataframe thead th {\n",
       "        text-align: right;\n",
       "    }\n",
       "</style>\n",
       "<table border=\"1\" class=\"dataframe\">\n",
       "  <thead>\n",
       "    <tr style=\"text-align: right;\">\n",
       "      <th></th>\n",
       "      <th>leads</th>\n",
       "      <th>prelim_quotes</th>\n",
       "      <th>final_qotes</th>\n",
       "      <th>purchases</th>\n",
       "      <th>Prelim_lead_ratio</th>\n",
       "      <th>final_Prelim_ratio</th>\n",
       "      <th>purchases_prelim_ratio</th>\n",
       "      <th>purchases_final_ratio</th>\n",
       "      <th>purchases_lead_ratio</th>\n",
       "      <th>Data</th>\n",
       "    </tr>\n",
       "    <tr>\n",
       "      <th>month_year</th>\n",
       "      <th></th>\n",
       "      <th></th>\n",
       "      <th></th>\n",
       "      <th></th>\n",
       "      <th></th>\n",
       "      <th></th>\n",
       "      <th></th>\n",
       "      <th></th>\n",
       "      <th></th>\n",
       "      <th></th>\n",
       "    </tr>\n",
       "  </thead>\n",
       "  <tbody>\n",
       "    <tr>\n",
       "      <th>2018-07</th>\n",
       "      <td>10072</td>\n",
       "      <td>6241</td>\n",
       "      <td>1705</td>\n",
       "      <td>579</td>\n",
       "      <td>0.620</td>\n",
       "      <td>0.273</td>\n",
       "      <td>0.093</td>\n",
       "      <td>0.340</td>\n",
       "      <td>0.057</td>\n",
       "      <td>All_states</td>\n",
       "    </tr>\n",
       "    <tr>\n",
       "      <th>2018-08</th>\n",
       "      <td>10849</td>\n",
       "      <td>6045</td>\n",
       "      <td>1582</td>\n",
       "      <td>590</td>\n",
       "      <td>0.557</td>\n",
       "      <td>0.262</td>\n",
       "      <td>0.098</td>\n",
       "      <td>0.373</td>\n",
       "      <td>0.054</td>\n",
       "      <td>All_states</td>\n",
       "    </tr>\n",
       "    <tr>\n",
       "      <th>2018-09</th>\n",
       "      <td>9040</td>\n",
       "      <td>5391</td>\n",
       "      <td>1409</td>\n",
       "      <td>560</td>\n",
       "      <td>0.596</td>\n",
       "      <td>0.261</td>\n",
       "      <td>0.104</td>\n",
       "      <td>0.397</td>\n",
       "      <td>0.062</td>\n",
       "      <td>All_states</td>\n",
       "    </tr>\n",
       "  </tbody>\n",
       "</table>\n",
       "</div>"
      ],
      "text/plain": [
       "            leads  prelim_quotes  final_qotes  purchases  Prelim_lead_ratio  \\\n",
       "month_year                                                                    \n",
       "2018-07     10072           6241         1705        579              0.620   \n",
       "2018-08     10849           6045         1582        590              0.557   \n",
       "2018-09      9040           5391         1409        560              0.596   \n",
       "\n",
       "            final_Prelim_ratio  purchases_prelim_ratio  purchases_final_ratio  \\\n",
       "month_year                                                                      \n",
       "2018-07                  0.273                   0.093                  0.340   \n",
       "2018-08                  0.262                   0.098                  0.373   \n",
       "2018-09                  0.261                   0.104                  0.397   \n",
       "\n",
       "            purchases_lead_ratio        Data  \n",
       "month_year                                    \n",
       "2018-07                    0.057  All_states  \n",
       "2018-08                    0.054  All_states  \n",
       "2018-09                    0.062  All_states  "
      ]
     },
     "execution_count": 38,
     "metadata": {},
     "output_type": "execute_result"
    }
   ],
   "source": [
    "# we are removing tx and wi and thus creating two more dfs\n",
    "# df_summary_12 = Summary of all states except texas ,removing Wi and nv as they dont all three months data\n",
    "\n",
    "df_summary_12 = find_ratios(df_summary_1[(df_summary_1[\"state\"]!=\"tx\") & (df_summary_1[\"state\"]!=\"wi\")\\\n",
    "                                        & (df_summary_1[\"state\"]!=\"nv\")].\\\n",
    "                            groupby([\"month_year\"])\\\n",
    "[[\"leads\",\"prelim_quotes\",\"final_qotes\",\"purchases\"]].sum())\n",
    "\n",
    "df_summary_12[\"Data\"]=\"All_states\"\n",
    "\n",
    "df_summary_12"
   ]
  },
  {
   "cell_type": "code",
   "execution_count": 39,
   "id": "electronic-balloon",
   "metadata": {},
   "outputs": [
    {
     "data": {
      "text/html": [
       "<div>\n",
       "<style scoped>\n",
       "    .dataframe tbody tr th:only-of-type {\n",
       "        vertical-align: middle;\n",
       "    }\n",
       "\n",
       "    .dataframe tbody tr th {\n",
       "        vertical-align: top;\n",
       "    }\n",
       "\n",
       "    .dataframe thead th {\n",
       "        text-align: right;\n",
       "    }\n",
       "</style>\n",
       "<table border=\"1\" class=\"dataframe\">\n",
       "  <thead>\n",
       "    <tr style=\"text-align: right;\">\n",
       "      <th></th>\n",
       "      <th>leads</th>\n",
       "      <th>prelim_quotes</th>\n",
       "      <th>final_qotes</th>\n",
       "      <th>purchases</th>\n",
       "      <th>Prelim_lead_ratio</th>\n",
       "      <th>final_Prelim_ratio</th>\n",
       "      <th>purchases_prelim_ratio</th>\n",
       "      <th>purchases_final_ratio</th>\n",
       "      <th>purchases_lead_ratio</th>\n",
       "      <th>Data</th>\n",
       "    </tr>\n",
       "    <tr>\n",
       "      <th>month_year</th>\n",
       "      <th></th>\n",
       "      <th></th>\n",
       "      <th></th>\n",
       "      <th></th>\n",
       "      <th></th>\n",
       "      <th></th>\n",
       "      <th></th>\n",
       "      <th></th>\n",
       "      <th></th>\n",
       "      <th></th>\n",
       "    </tr>\n",
       "  </thead>\n",
       "  <tbody>\n",
       "    <tr>\n",
       "      <th>2018-07</th>\n",
       "      <td>4818</td>\n",
       "      <td>3275</td>\n",
       "      <td>852</td>\n",
       "      <td>295</td>\n",
       "      <td>0.680</td>\n",
       "      <td>0.260</td>\n",
       "      <td>0.090</td>\n",
       "      <td>0.346</td>\n",
       "      <td>0.061</td>\n",
       "      <td>Texas</td>\n",
       "    </tr>\n",
       "    <tr>\n",
       "      <th>2018-08</th>\n",
       "      <td>6016</td>\n",
       "      <td>4133</td>\n",
       "      <td>1075</td>\n",
       "      <td>332</td>\n",
       "      <td>0.687</td>\n",
       "      <td>0.260</td>\n",
       "      <td>0.080</td>\n",
       "      <td>0.309</td>\n",
       "      <td>0.055</td>\n",
       "      <td>Texas</td>\n",
       "    </tr>\n",
       "    <tr>\n",
       "      <th>2018-09</th>\n",
       "      <td>7020</td>\n",
       "      <td>4828</td>\n",
       "      <td>1338</td>\n",
       "      <td>300</td>\n",
       "      <td>0.688</td>\n",
       "      <td>0.277</td>\n",
       "      <td>0.062</td>\n",
       "      <td>0.224</td>\n",
       "      <td>0.043</td>\n",
       "      <td>Texas</td>\n",
       "    </tr>\n",
       "  </tbody>\n",
       "</table>\n",
       "</div>"
      ],
      "text/plain": [
       "            leads  prelim_quotes  final_qotes  purchases  Prelim_lead_ratio  \\\n",
       "month_year                                                                    \n",
       "2018-07      4818           3275          852        295              0.680   \n",
       "2018-08      6016           4133         1075        332              0.687   \n",
       "2018-09      7020           4828         1338        300              0.688   \n",
       "\n",
       "            final_Prelim_ratio  purchases_prelim_ratio  purchases_final_ratio  \\\n",
       "month_year                                                                      \n",
       "2018-07                  0.260                   0.090                  0.346   \n",
       "2018-08                  0.260                   0.080                  0.309   \n",
       "2018-09                  0.277                   0.062                  0.224   \n",
       "\n",
       "            purchases_lead_ratio   Data  \n",
       "month_year                               \n",
       "2018-07                    0.061  Texas  \n",
       "2018-08                    0.055  Texas  \n",
       "2018-09                    0.043  Texas  "
      ]
     },
     "execution_count": 39,
     "metadata": {},
     "output_type": "execute_result"
    }
   ],
   "source": [
    "# df_summary_13 = Summary of texas state\n",
    "\n",
    "df_summary_13 = find_ratios(df_summary_1[(df_summary_1[\"state\"]==\"tx\")].groupby([\"month_year\"])\\\n",
    "[[\"leads\",\"prelim_quotes\",\"final_qotes\",\"purchases\"]].sum())\n",
    "\n",
    "df_summary_13[\"Data\"]=\"Texas\"\n",
    "\n",
    "df_summary_13"
   ]
  },
  {
   "cell_type": "code",
   "execution_count": 40,
   "id": "hybrid-craps",
   "metadata": {},
   "outputs": [],
   "source": [
    "data_concat = pd.concat([df_summary_13,df_summary_12]).reset_index()"
   ]
  },
  {
   "cell_type": "code",
   "execution_count": 41,
   "id": "directed-fiber",
   "metadata": {},
   "outputs": [],
   "source": [
    "all_states_july_prelim_quotes = df_summary_12.loc[\"2018-07\"][\"prelim_quotes\"]\n",
    "all_states_july_purchases =df_summary_12.loc[\"2018-07\"][\"purchases\"]\n",
    "all_states_july_final =df_summary_12.loc[\"2018-07\"][\"final_qotes\"]\n",
    "\n",
    "all_states_aug_prelim_quotes = df_summary_12.loc[\"2018-08\"][\"prelim_quotes\"]\n",
    "all_states_aug_purchases =df_summary_12.loc[\"2018-08\"][\"purchases\"]\n",
    "all_states_aug_final =df_summary_12.loc[\"2018-08\"][\"final_qotes\"]\n",
    "\n",
    "all_states_sep_prelim_quotes = df_summary_12.loc[\"2018-09\"][\"prelim_quotes\"]\n",
    "all_states_sep_purchases =df_summary_12.loc[\"2018-09\"][\"purchases\"]\n",
    "all_states_sep_final =df_summary_12.loc[\"2018-09\"][\"final_qotes\"]\n",
    "\n",
    "texas_july_prelim_quotes = df_summary_13.loc[\"2018-07\"][\"prelim_quotes\"]\n",
    "texas_july_purchases =df_summary_13.loc[\"2018-07\"][\"purchases\"]\n",
    "texas_july_final =df_summary_13.loc[\"2018-07\"][\"final_qotes\"]\n",
    "\n",
    "texas_aug_prelim_quotes = df_summary_13.loc[\"2018-08\"][\"prelim_quotes\"]\n",
    "texas_aug_purchases =df_summary_13.loc[\"2018-08\"][\"purchases\"]\n",
    "texas_aug_final =df_summary_13.loc[\"2018-08\"][\"final_qotes\"]\n",
    "\n",
    "texas_sept_prelim_quotes = df_summary_13.loc[\"2018-09\"][\"prelim_quotes\"]\n",
    "texas_sept_purchases =df_summary_13.loc[\"2018-09\"][\"purchases\"]\n",
    "texas_sept_final =df_summary_13.loc[\"2018-09\"][\"final_qotes\"]"
   ]
  },
  {
   "cell_type": "code",
   "execution_count": 42,
   "id": "chemical-briefs",
   "metadata": {},
   "outputs": [
    {
     "data": {
      "image/png": "[encoded data removed]",
      "text/plain": [
       "<Figure size 1224x432 with 6 Axes>"
      ]
     },
     "metadata": {
      "needs_background": "light"
     },
     "output_type": "display_data"
    }
   ],
   "source": [
    "fig, axes = plt.subplots(2, 3, figsize=(17, 6))\n",
    "axes = axes.flatten()\n",
    "for i,j in zip([\"Prelim_lead_ratio\",\"final_Prelim_ratio\",\"purchases_final_ratio\",\\\n",
    "                \"purchases_prelim_ratio\",\"purchases_lead_ratio\"],axes):\n",
    "\n",
    "    sns.lineplot(data= data_concat ,y=i , x= \"month_year\", hue=\"Data\",ax=j)\n"
   ]
  },
  {
   "cell_type": "markdown",
   "id": "visible-brother",
   "metadata": {},
   "source": [
    "#### By Visual Inspection: \n",
    "   - Nationally(all states except texas) , purchases_prelim_ratio have seen an increase from Aug to September \n",
    "   - In Texas, purchases_prelim_ratio have seen an decrease from Aug to September\n"
   ]
  },
  {
   "cell_type": "markdown",
   "id": "three-notice",
   "metadata": {},
   "source": [
    "Here also we follow the same process as in part-1 and check how do the texans compare with respect to all states\n",
    "\n",
    "Below, a ztest test is performed for the goal metric proportions in \"All_states\" and \"texas\" data.\\\n",
    "H_0 = All proportions are same\\\n",
    "H_1 = proportions are different"
   ]
  },
  {
   "cell_type": "code",
   "execution_count": 43,
   "id": "wireless-million",
   "metadata": {},
   "outputs": [
    {
     "name": "stdout",
     "output_type": "stream",
     "text": [
      "Proportion of success in texas  0.085\n",
      "Proportion of success in all states  0.095\n",
      "0.079\n"
     ]
    }
   ],
   "source": [
    "from statsmodels.stats.proportion import proportions_ztest\n",
    "\n",
    "#the number of successes in nobs trials\n",
    "# here we gave average of july and aug month success(purchase) and trails(prelim_quotes) for \"all_states\" and texas\n",
    "count = np.array([(all_states_july_purchases + all_states_aug_purchases)/2,\\\n",
    "                 (texas_july_purchases + texas_aug_purchases)/2])\n",
    "\n",
    "#the number of trials or observations\n",
    "nobs = np.array([(all_states_july_prelim_quotes + all_states_aug_prelim_quotes)/2,\\\n",
    "                (texas_july_prelim_quotes + texas_aug_prelim_quotes)/2 ])\n",
    "\n",
    "print (\"Proportion of success in texas \" , round(((texas_july_purchases + texas_aug_purchases)/2)\\\n",
    "                                                      /((texas_july_prelim_quotes + texas_aug_prelim_quotes)/2),3))\n",
    "\n",
    "print (\"Proportion of success in all states \" , round(((all_states_july_purchases + all_states_aug_purchases)/2)\\\n",
    "                                                      /((all_states_july_prelim_quotes + all_states_aug_prelim_quotes)/2),3))\n",
    "z_val, p_val = proportions_ztest(count, nobs,alternative= \"two-sided\")\n",
    "print('{0:0.3f}'.format(p_val))"
   ]
  },
  {
   "cell_type": "markdown",
   "id": "classical-prescription",
   "metadata": {},
   "source": [
    "p_val> alpha- Fail to reject the Null hypothesis.\n",
    "\n",
    "We did not get evidence to say that texans use this product any differently than other states.\n",
    "\n",
    "Below, a ztest test is performed for the goal metric proportions in \"All_states\" and \"texas\" data.\\\n",
    "Here we are testing for the september month.\n",
    "\n",
    "H_0 = No increase in proportion after introducing new algorithm\\\n",
    "H_1 = Difference in proportion after introducing new algorithm"
   ]
  },
  {
   "cell_type": "code",
   "execution_count": 44,
   "id": "logical-armor",
   "metadata": {},
   "outputs": [
    {
     "name": "stdout",
     "output_type": "stream",
     "text": [
      "Proportion of success in all states  0.104\n",
      "Proportion of success in texas  0.062\n",
      "0.000\n"
     ]
    }
   ],
   "source": [
    "from statsmodels.stats.proportion import proportions_ztest\n",
    "\n",
    "#the number of successes in nobs trials\n",
    "# here we gave sep month success(purchase) and trails(prelim_quotes) for \"all_states\" and texas\n",
    "count = np.array([all_states_sep_purchases,texas_sept_purchases])\n",
    "\n",
    "#the number of trials or observations\n",
    "nobs = np.array([all_states_sep_prelim_quotes,texas_sept_prelim_quotes])\n",
    "\n",
    "print (\"Proportion of success in all states \" , round(all_states_sep_purchases/all_states_sep_prelim_quotes,3))\n",
    "print (\"Proportion of success in texas \" , round((texas_sept_purchases+0)/texas_sept_prelim_quotes,3))\n",
    "z_val, p_val = proportions_ztest(count, nobs,value=0,alternative=\"two-sided\")\n",
    "print('{0:0.3f}'.format(p_val))"
   ]
  },
  {
   "cell_type": "markdown",
   "id": "surprised-ethnic",
   "metadata": {},
   "source": [
    "p_val< alpha,Reject null hypothesis. We have enough evidence that the new pricing algorothm is actually making a significant decrease in the purchases. "
   ]
  },
  {
   "cell_type": "markdown",
   "id": "dense-leader",
   "metadata": {},
   "source": [
    "#### What about the users who have proceeded to final quote after obtaining the prelimary quote?\n",
    "\n",
    "Is there any change in the number of users who have went through the full process of obtaining a quote after preliminary quote? It is given by the metric - final_Prelim_ratio. Since we did not find any evidence that there is a significant change in purchases proportion ,we can analyze this final_Prelim_ratio and know whether the customers are backing off after getting the final quotation. We can follow the same procedure which we have followed for purchases_prelim_ratio.\n",
    "\n",
    "\n",
    "Here the goal metric is final_Prelim_ratio\\\n",
    "H_0 = All proportions are same- texans and other states use the products similarly\\\n",
    "H_1 = proportions are different- texans and other states use the products differently"
   ]
  },
  {
   "cell_type": "code",
   "execution_count": 45,
   "id": "capital-tokyo",
   "metadata": {},
   "outputs": [
    {
     "name": "stdout",
     "output_type": "stream",
     "text": [
      "Proportion of success in texas  0.26\n",
      "Proportion of success in all states  0.268\n",
      "0.419088\n"
     ]
    }
   ],
   "source": [
    "from statsmodels.stats.proportion import proportions_ztest\n",
    "\n",
    "#the number of successes in nobs trials\n",
    "# here we gave average of july and aug month success(final_quotes) and trails(prelim_quotes) for \"all_states\" and texas\n",
    "count = np.array([(all_states_july_final + all_states_aug_final)/2,\\\n",
    "                 (texas_july_final + texas_aug_final)/2])\n",
    "\n",
    "#the number of trials or observations\n",
    "nobs = np.array([(all_states_july_prelim_quotes + all_states_aug_prelim_quotes)/2,\\\n",
    "                (texas_july_prelim_quotes + texas_aug_prelim_quotes)/2 ])\n",
    "\n",
    "print (\"Proportion of success in texas \" , round(((texas_july_final + texas_aug_final)/2)\\\n",
    "                                                      /((texas_july_prelim_quotes + texas_aug_prelim_quotes)/2),3))\n",
    "\n",
    "print (\"Proportion of success in all states \" , round(((all_states_july_final + all_states_aug_final)/2)\\\n",
    "                                                    /((all_states_july_prelim_quotes + all_states_aug_prelim_quotes)/2),3))\n",
    "z_val, p_val = proportions_ztest(count, nobs)\n",
    "print('{0:0.6f}'.format(p_val))"
   ]
  },
  {
   "cell_type": "markdown",
   "id": "warming-gothic",
   "metadata": {},
   "source": [
    "p_val> alpha- Fail to reject the Null hypothesis.\n",
    "\n",
    "We did not get evidence to say that texans use this product any differently than other states. \n",
    "\n",
    "Below, a ztest test is performed for the goal metric proportions in \"All_states\" and \"texas\" data.\\\n",
    "Here we are testing for the september month.In september month, we have actually introduced a new pricing algorithm.\n",
    "\n",
    "Here the goal metric is final_Prelim_ratio\\\n",
    "H_0 = No increase in proportion after introducing new algorithm\\\n",
    "H_1 = Difference in proportion after introducing new algorithm"
   ]
  },
  {
   "cell_type": "code",
   "execution_count": 46,
   "id": "complete-faith",
   "metadata": {},
   "outputs": [
    {
     "name": "stdout",
     "output_type": "stream",
     "text": [
      "Proportion of success in all states  0.261\n",
      "Proportion of success in texas  0.277\n",
      "0.036\n"
     ]
    }
   ],
   "source": [
    "from statsmodels.stats.proportion import proportions_ztest\n",
    "\n",
    "#the number of successes in nobs trials\n",
    "# here we gave sep month success(final_quotes) and trails(prelim_quotes) for \"all_states\" and texas\n",
    "count = np.array([all_states_sep_final,texas_sept_final])\n",
    "\n",
    "#the number of trials or observations\n",
    "nobs = np.array([all_states_sep_prelim_quotes,texas_sept_prelim_quotes])\n",
    "\n",
    "print (\"Proportion of success in all states \" , round(all_states_sep_final/all_states_sep_prelim_quotes,3))\n",
    "print (\"Proportion of success in texas \" , round((texas_sept_final)/texas_sept_prelim_quotes,3))\n",
    "z_val, p_val = proportions_ztest(count, nobs,value=0.0,alternative=\"smaller\")\n",
    "print('{0:0.3f}'.format(p_val))"
   ]
  },
  {
   "cell_type": "markdown",
   "id": "middle-radio",
   "metadata": {},
   "source": [
    "p_val< alpha- Reject the Null hypothesis.\n",
    "The number of users have increased from prelims to finals, but number of users from prelims to purchases have decreased. This is definitely alarming.\n"
   ]
  },
  {
   "cell_type": "markdown",
   "id": "elementary-season",
   "metadata": {},
   "source": [
    "### Recommendation 4 : \n",
    "1. There are two ways of comparison we can do here, how well the product did with respect to national average or how well the product did with respect to only texas state. TO do the later we should do the analysis with previous years data, which isnt available right now.\n",
    "\n",
    "2. Here when we compared how well the algorithm did with respect to all states and texas. We did not enough evidence of a significant improvement. The reasons are stated above."
   ]
  },
  {
   "cell_type": "markdown",
   "id": "saved-discharge",
   "metadata": {},
   "source": [
    "## Summary and Final Thoughts"
   ]
  },
  {
   "attachments": {
    "image.png": {
     "image/png": "[encoded data removed]"
    }
   },
   "cell_type": "markdown",
   "id": "mounted-aquatic",
   "metadata": {},
   "source": [
    "![image.png](attachment:image.png)"
   ]
  },
  {
   "cell_type": "code",
   "execution_count": 49,
   "id": "injured-admission",
   "metadata": {},
   "outputs": [
    {
     "data": {
      "text/html": [
       "<div>\n",
       "<style scoped>\n",
       "    .dataframe tbody tr th:only-of-type {\n",
       "        vertical-align: middle;\n",
       "    }\n",
       "\n",
       "    .dataframe tbody tr th {\n",
       "        vertical-align: top;\n",
       "    }\n",
       "\n",
       "    .dataframe thead th {\n",
       "        text-align: right;\n",
       "    }\n",
       "</style>\n",
       "<table border=\"1\" class=\"dataframe\">\n",
       "  <thead>\n",
       "    <tr style=\"text-align: right;\">\n",
       "      <th></th>\n",
       "      <th>created_by</th>\n",
       "      <th>product_</th>\n",
       "      <th>leads</th>\n",
       "      <th>prelim_quotes</th>\n",
       "      <th>final_qotes</th>\n",
       "      <th>purchases</th>\n",
       "      <th>Prelim_lead_ratio</th>\n",
       "      <th>final_Prelim_ratio</th>\n",
       "      <th>purchases_prelim_ratio</th>\n",
       "      <th>purchases_final_ratio</th>\n",
       "      <th>purchases_lead_ratio</th>\n",
       "    </tr>\n",
       "  </thead>\n",
       "  <tbody>\n",
       "    <tr>\n",
       "      <th>0</th>\n",
       "      <td>Agent</td>\n",
       "      <td>ho3</td>\n",
       "      <td>15555</td>\n",
       "      <td>14957</td>\n",
       "      <td>11971</td>\n",
       "      <td>1976</td>\n",
       "      <td>0.962</td>\n",
       "      <td>0.800</td>\n",
       "      <td>0.132</td>\n",
       "      <td>0.165</td>\n",
       "      <td>0.127</td>\n",
       "    </tr>\n",
       "    <tr>\n",
       "      <th>1</th>\n",
       "      <td>Agent</td>\n",
       "      <td>ho6</td>\n",
       "      <td>1739</td>\n",
       "      <td>1694</td>\n",
       "      <td>1390</td>\n",
       "      <td>229</td>\n",
       "      <td>0.974</td>\n",
       "      <td>0.821</td>\n",
       "      <td>0.135</td>\n",
       "      <td>0.165</td>\n",
       "      <td>0.132</td>\n",
       "    </tr>\n",
       "    <tr>\n",
       "      <th>2</th>\n",
       "      <td>Online</td>\n",
       "      <td>ho3</td>\n",
       "      <td>48110</td>\n",
       "      <td>30095</td>\n",
       "      <td>7995</td>\n",
       "      <td>2678</td>\n",
       "      <td>0.626</td>\n",
       "      <td>0.266</td>\n",
       "      <td>0.089</td>\n",
       "      <td>0.335</td>\n",
       "      <td>0.056</td>\n",
       "    </tr>\n",
       "    <tr>\n",
       "      <th>3</th>\n",
       "      <td>Online</td>\n",
       "      <td>ho6</td>\n",
       "      <td>6488</td>\n",
       "      <td>3347</td>\n",
       "      <td>1008</td>\n",
       "      <td>448</td>\n",
       "      <td>0.516</td>\n",
       "      <td>0.301</td>\n",
       "      <td>0.134</td>\n",
       "      <td>0.444</td>\n",
       "      <td>0.069</td>\n",
       "    </tr>\n",
       "  </tbody>\n",
       "</table>\n",
       "</div>"
      ],
      "text/plain": [
       "  created_by product_  leads  prelim_quotes  final_qotes  purchases  \\\n",
       "0      Agent      ho3  15555          14957        11971       1976   \n",
       "1      Agent      ho6   1739           1694         1390        229   \n",
       "2     Online      ho3  48110          30095         7995       2678   \n",
       "3     Online      ho6   6488           3347         1008        448   \n",
       "\n",
       "   Prelim_lead_ratio  final_Prelim_ratio  purchases_prelim_ratio  \\\n",
       "0              0.962               0.800                   0.132   \n",
       "1              0.974               0.821                   0.135   \n",
       "2              0.626               0.266                   0.089   \n",
       "3              0.516               0.301                   0.134   \n",
       "\n",
       "   purchases_final_ratio  purchases_lead_ratio  \n",
       "0                  0.165                 0.127  \n",
       "1                  0.165                 0.132  \n",
       "2                  0.335                 0.056  \n",
       "3                  0.444                 0.069  "
      ]
     },
     "execution_count": 49,
     "metadata": {},
     "output_type": "execute_result"
    }
   ],
   "source": [
    "find_ratios(df.groupby([\"created_by\",\"product_\"])\\\n",
    "                  [\"leads\",\"prelim_quotes\",\"final_qotes\",\"purchases\"].\\\n",
    "                  sum().reset_index())"
   ]
  },
  {
   "cell_type": "markdown",
   "id": "civic-georgia",
   "metadata": {},
   "source": [
    "As we see from table and dataframe above, Our most popular product with customers (h03 with highest number of leads) has suffered a decline in purchases significantly with the new algorithm. And I think we should relook into the new pricing algorithm intricately and do improvements to again increase our customer leads.!!\n"
   ]
  }
 ],
 "metadata": {
  "kernelspec": {
   "display_name": "Python 3",
   "language": "python",
   "name": "python3"
  },
  "language_info": {
   "codemirror_mode": {
    "name": "ipython",
    "version": 3
   },
   "file_extension": ".py",
   "mimetype": "text/x-python",
   "name": "python",
   "nbconvert_exporter": "python",
   "pygments_lexer": "ipython3",
   "version": "3.7.3"
  }
 },
 "nbformat": 4,
 "nbformat_minor": 5
}
